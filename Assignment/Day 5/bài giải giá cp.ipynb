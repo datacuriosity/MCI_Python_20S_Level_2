{
 "cells": [
  {
   "cell_type": "code",
   "execution_count": null,
   "metadata": {},
   "outputs": [],
   "source": [
    "# dự đoán giá cổ phiếu --> biến mục tiêu là giá ???? ---> regression\n",
    "# model --> linear regression, random forest, svm "
   ]
  },
  {
   "cell_type": "code",
   "execution_count": 5,
   "metadata": {},
   "outputs": [],
   "source": [
    "import pandas as pd"
   ]
  },
  {
   "cell_type": "code",
   "execution_count": 6,
   "metadata": {},
   "outputs": [],
   "source": [
    "df = pd.read_csv('sphist.csv')"
   ]
  },
  {
   "cell_type": "code",
   "execution_count": 7,
   "metadata": {},
   "outputs": [
    {
     "name": "stdout",
     "output_type": "stream",
     "text": [
      "<class 'pandas.core.frame.DataFrame'>\n",
      "RangeIndex: 16590 entries, 0 to 16589\n",
      "Data columns (total 7 columns):\n",
      " #   Column     Non-Null Count  Dtype  \n",
      "---  ------     --------------  -----  \n",
      " 0   Date       16590 non-null  object \n",
      " 1   Open       16590 non-null  float64\n",
      " 2   High       16590 non-null  float64\n",
      " 3   Low        16590 non-null  float64\n",
      " 4   Close      16590 non-null  float64\n",
      " 5   Volume     16590 non-null  int64  \n",
      " 6   Adj Close  16590 non-null  float64\n",
      "dtypes: float64(5), int64(1), object(1)\n",
      "memory usage: 907.4+ KB\n"
     ]
    }
   ],
   "source": [
    "df.info()"
   ]
  },
  {
   "cell_type": "code",
   "execution_count": 9,
   "metadata": {},
   "outputs": [
    {
     "data": {
      "text/html": [
       "<div>\n",
       "<style scoped>\n",
       "    .dataframe tbody tr th:only-of-type {\n",
       "        vertical-align: middle;\n",
       "    }\n",
       "\n",
       "    .dataframe tbody tr th {\n",
       "        vertical-align: top;\n",
       "    }\n",
       "\n",
       "    .dataframe thead th {\n",
       "        text-align: right;\n",
       "    }\n",
       "</style>\n",
       "<table border=\"1\" class=\"dataframe\">\n",
       "  <thead>\n",
       "    <tr style=\"text-align: right;\">\n",
       "      <th></th>\n",
       "      <th>Date</th>\n",
       "      <th>Open</th>\n",
       "      <th>High</th>\n",
       "      <th>Low</th>\n",
       "      <th>Close</th>\n",
       "      <th>Volume</th>\n",
       "      <th>Adj Close</th>\n",
       "    </tr>\n",
       "  </thead>\n",
       "  <tbody>\n",
       "    <tr>\n",
       "      <th>0</th>\n",
       "      <td>7/12/15</td>\n",
       "      <td>2090.419922</td>\n",
       "      <td>2090.419922</td>\n",
       "      <td>2066.780029</td>\n",
       "      <td>2077.070068</td>\n",
       "      <td>4043820000</td>\n",
       "      <td>2077.070068</td>\n",
       "    </tr>\n",
       "    <tr>\n",
       "      <th>1</th>\n",
       "      <td>4/12/15</td>\n",
       "      <td>2051.239990</td>\n",
       "      <td>2093.840088</td>\n",
       "      <td>2051.239990</td>\n",
       "      <td>2091.689941</td>\n",
       "      <td>4214910000</td>\n",
       "      <td>2091.689941</td>\n",
       "    </tr>\n",
       "    <tr>\n",
       "      <th>2</th>\n",
       "      <td>3/12/15</td>\n",
       "      <td>2080.709961</td>\n",
       "      <td>2085.000000</td>\n",
       "      <td>2042.349976</td>\n",
       "      <td>2049.620117</td>\n",
       "      <td>4306490000</td>\n",
       "      <td>2049.620117</td>\n",
       "    </tr>\n",
       "    <tr>\n",
       "      <th>3</th>\n",
       "      <td>2/12/15</td>\n",
       "      <td>2101.709961</td>\n",
       "      <td>2104.270020</td>\n",
       "      <td>2077.110107</td>\n",
       "      <td>2079.510010</td>\n",
       "      <td>3950640000</td>\n",
       "      <td>2079.510010</td>\n",
       "    </tr>\n",
       "    <tr>\n",
       "      <th>4</th>\n",
       "      <td>1/12/15</td>\n",
       "      <td>2082.929932</td>\n",
       "      <td>2103.370117</td>\n",
       "      <td>2082.929932</td>\n",
       "      <td>2102.629883</td>\n",
       "      <td>3712120000</td>\n",
       "      <td>2102.629883</td>\n",
       "    </tr>\n",
       "  </tbody>\n",
       "</table>\n",
       "</div>"
      ],
      "text/plain": [
       "      Date         Open         High          Low        Close      Volume  \\\n",
       "0  7/12/15  2090.419922  2090.419922  2066.780029  2077.070068  4043820000   \n",
       "1  4/12/15  2051.239990  2093.840088  2051.239990  2091.689941  4214910000   \n",
       "2  3/12/15  2080.709961  2085.000000  2042.349976  2049.620117  4306490000   \n",
       "3  2/12/15  2101.709961  2104.270020  2077.110107  2079.510010  3950640000   \n",
       "4  1/12/15  2082.929932  2103.370117  2082.929932  2102.629883  3712120000   \n",
       "\n",
       "     Adj Close  \n",
       "0  2077.070068  \n",
       "1  2091.689941  \n",
       "2  2049.620117  \n",
       "3  2079.510010  \n",
       "4  2102.629883  "
      ]
     },
     "execution_count": 9,
     "metadata": {},
     "output_type": "execute_result"
    }
   ],
   "source": [
    "df.head()"
   ]
  },
  {
   "cell_type": "code",
   "execution_count": 10,
   "metadata": {},
   "outputs": [],
   "source": [
    "df['Date'] = pd.to_datetime(df['Date'])"
   ]
  },
  {
   "cell_type": "code",
   "execution_count": 20,
   "metadata": {},
   "outputs": [],
   "source": [
    "df.reset_index(inplace = True, drop = True)"
   ]
  },
  {
   "cell_type": "code",
   "execution_count": 21,
   "metadata": {},
   "outputs": [],
   "source": [
    "df = df.sort_values('Date')"
   ]
  },
  {
   "cell_type": "code",
   "execution_count": 22,
   "metadata": {},
   "outputs": [],
   "source": [
    "def get_avg_n_days_recent(data,n,col_name):\n",
    "    result = []\n",
    "    for index,row in data.iterrows():\n",
    "        if index < n:\n",
    "            result.append(0)\n",
    "        else:\n",
    "            i_n = index - n\n",
    "            tmp = data.iloc[i_n:index][col_name].mean()\n",
    "            result.append(tmp)\n",
    "            \n",
    "    return result\n"
   ]
  },
  {
   "cell_type": "code",
   "execution_count": 23,
   "metadata": {},
   "outputs": [],
   "source": [
    "def get_std_n_days_recent(data,n,col_name):\n",
    "    result = []\n",
    "    for index,row in data.iterrows():\n",
    "        if index < n:\n",
    "            result.append(0)\n",
    "        else:\n",
    "            i_n = index - n\n",
    "            tmp = data.iloc[i_n:index][col_name].std()\n",
    "            result.append(tmp)\n",
    "            \n",
    "    return result"
   ]
  },
  {
   "cell_type": "code",
   "execution_count": 24,
   "metadata": {},
   "outputs": [],
   "source": [
    "##### feature engineering"
   ]
  },
  {
   "cell_type": "code",
   "execution_count": 25,
   "metadata": {},
   "outputs": [],
   "source": [
    "### Prev_5_avg_price ###\n",
    "# col_name = 'Open'\n",
    "# n_recent_days = 5\n",
    "# tmp = get_avg_n_days_recent(df,n_recent_days,col_name)\n",
    "# df['feat_01'] = tmp\n",
    "\n",
    "n_recent_days = 5\n",
    "col_name = 'Open'\n",
    "tmp = get_avg_n_days_recent(df, n_recent_days, col_name)\n",
    "df['feat_01'] = tmp"
   ]
  },
  {
   "cell_type": "code",
   "execution_count": 32,
   "metadata": {},
   "outputs": [],
   "source": [
    "# feat_02 5 ngafy gaafn nhat của cột High\n",
    "n_recent_days = 5\n",
    "col_name = 'High'\n",
    "tmp = get_avg_n_days_recent(df, n_recent_days, col_name)\n",
    "df['feat_02'] = tmp"
   ]
  },
  {
   "cell_type": "code",
   "execution_count": 33,
   "metadata": {},
   "outputs": [],
   "source": [
    "# feat_02 5 ngày gần nhat của cột Low\n",
    "n_recent_days = 5\n",
    "col_name = 'Low'\n",
    "tmp = get_avg_n_days_recent(df, n_recent_days, col_name)\n",
    "df['feat_03'] = tmp"
   ]
  },
  {
   "cell_type": "code",
   "execution_count": 34,
   "metadata": {},
   "outputs": [],
   "source": [
    "# feat_02 5 ngày gần nhat của cột Close\n",
    "n_recent_days = 5\n",
    "col_name = 'Close'\n",
    "tmp = get_avg_n_days_recent(df, n_recent_days, col_name)\n",
    "df['feat_04'] = tmp"
   ]
  },
  {
   "cell_type": "code",
   "execution_count": 41,
   "metadata": {},
   "outputs": [],
   "source": [
    "n_recent_days = 30 ## nên chọn 22\n",
    "col_name = 'Open'\n",
    "tmp = get_avg_n_days_recent(df, n_recent_days, col_name)\n",
    "df['feat_05'] = tmp"
   ]
  },
  {
   "cell_type": "code",
   "execution_count": 40,
   "metadata": {},
   "outputs": [],
   "source": [
    "n_recent_days = 30\n",
    "col_name = 'High'\n",
    "tmp = get_avg_n_days_recent(df, n_recent_days, col_name)\n",
    "df['feat_06'] = tmp"
   ]
  },
  {
   "cell_type": "code",
   "execution_count": 39,
   "metadata": {},
   "outputs": [],
   "source": [
    "n_recent_days = 30\n",
    "col_name = 'Low'\n",
    "tmp = get_avg_n_days_recent(df, n_recent_days, col_name)\n",
    "df['feat_07'] = tmp"
   ]
  },
  {
   "cell_type": "code",
   "execution_count": 38,
   "metadata": {},
   "outputs": [],
   "source": [
    "n_recent_days = 30\n",
    "col_name = 'Close'\n",
    "tmp = get_avg_n_days_recent(df, n_recent_days, col_name)\n",
    "df['feat_08'] = tmp"
   ]
  },
  {
   "cell_type": "code",
   "execution_count": 42,
   "metadata": {},
   "outputs": [],
   "source": [
    "###### Prev_5_std_price ###\n",
    "col_name = 'Open'\n",
    "n_recent_days = 5\n",
    "tmp = get_std_n_days_recent(df,n_recent_days,col_name)\n",
    "df['feat_09'] = tmp"
   ]
  },
  {
   "cell_type": "code",
   "execution_count": 43,
   "metadata": {},
   "outputs": [],
   "source": [
    "col_name = 'High'\n",
    "n_recent_days = 5\n",
    "tmp = get_std_n_days_recent(df,n_recent_days,col_name)\n",
    "df['feat_10'] = tmp"
   ]
  },
  {
   "cell_type": "code",
   "execution_count": 44,
   "metadata": {},
   "outputs": [],
   "source": [
    "col_name = 'Low'\n",
    "n_recent_days = 5\n",
    "tmp = get_std_n_days_recent(df,n_recent_days,col_name)\n",
    "df['feat_11'] = tmp"
   ]
  },
  {
   "cell_type": "code",
   "execution_count": 45,
   "metadata": {},
   "outputs": [],
   "source": [
    "col_name = 'Close'\n",
    "n_recent_days = 5\n",
    "tmp = get_std_n_days_recent(df,n_recent_days,col_name)\n",
    "df['feat_12'] = tmp"
   ]
  },
  {
   "cell_type": "code",
   "execution_count": 46,
   "metadata": {},
   "outputs": [],
   "source": [
    "### Prev_30_std_price"
   ]
  },
  {
   "cell_type": "code",
   "execution_count": 48,
   "metadata": {},
   "outputs": [],
   "source": [
    "col_name = 'Open'\n",
    "n_recent_days = 30\n",
    "tmp = get_std_n_days_recent(df,n_recent_days,col_name)\n",
    "df['feat_13'] = tmp"
   ]
  },
  {
   "cell_type": "code",
   "execution_count": 49,
   "metadata": {},
   "outputs": [],
   "source": [
    "col_name = 'High'\n",
    "n_recent_days = 30\n",
    "tmp = get_std_n_days_recent(df,n_recent_days,col_name)\n",
    "df['feat_14'] = tmp"
   ]
  },
  {
   "cell_type": "code",
   "execution_count": 50,
   "metadata": {},
   "outputs": [],
   "source": [
    "col_name = 'Low'\n",
    "n_recent_days = 30\n",
    "tmp = get_std_n_days_recent(df,n_recent_days,col_name)\n",
    "df['feat_15'] = tmp"
   ]
  },
  {
   "cell_type": "code",
   "execution_count": 51,
   "metadata": {},
   "outputs": [],
   "source": [
    "col_name = 'Close'\n",
    "n_recent_days = 30\n",
    "tmp = get_std_n_days_recent(df,n_recent_days,col_name)\n",
    "df['feat_16'] = tmp"
   ]
  },
  {
   "cell_type": "code",
   "execution_count": 52,
   "metadata": {},
   "outputs": [],
   "source": [
    "# Prev_5_avg_volume\n",
    "col_name = 'Volume'\n",
    "n_recent_days = 5\n",
    "tmp = get_avg_n_days_recent(df,n_recent_days,col_name)\n",
    "df['feat_17'] = tmp"
   ]
  },
  {
   "cell_type": "code",
   "execution_count": 53,
   "metadata": {},
   "outputs": [],
   "source": [
    "# Prev_30_avg_volume\n",
    "col_name = 'Volume'\n",
    "n_recent_days = 30\n",
    "tmp = get_avg_n_days_recent(df,n_recent_days,col_name)\n",
    "df['feat_18'] = tmp"
   ]
  },
  {
   "cell_type": "code",
   "execution_count": 54,
   "metadata": {},
   "outputs": [],
   "source": [
    "# Prev_5_std_volume\n",
    "n_recent_days = 5\n",
    "col_name = 'Volume'\n",
    "tmp = get_std_n_days_recent(df,n_recent_days,col_name)\n",
    "df['feat_19'] = tmp"
   ]
  },
  {
   "cell_type": "code",
   "execution_count": 55,
   "metadata": {},
   "outputs": [],
   "source": [
    "# Prev_30_std_volume\n",
    "n_recent_days = 30\n",
    "col_name = 'Volume'\n",
    "tmp = get_std_n_days_recent(df,n_recent_days,col_name)\n",
    "df['feat_20'] = tmp"
   ]
  },
  {
   "cell_type": "code",
   "execution_count": 56,
   "metadata": {},
   "outputs": [],
   "source": [
    "### một feature có thể đi qua rất nhiều truy vấn\n",
    "## download raw_Data về tính toán"
   ]
  },
  {
   "cell_type": "code",
   "execution_count": 57,
   "metadata": {},
   "outputs": [],
   "source": [
    "# # quotient feature : 2 feature chia nhau\n",
    "# # avg_5 / avg_30\n",
    "df['feat_21'] = df['feat_01'] / (df['feat_05'] + 0.01) #giá open\n",
    "df['feat_22'] = df['feat_02'] / (df['feat_06'] + 0.01) #high\n",
    "df['feat_23'] = df['feat_03'] / (df['feat_07'] + 0.01) #low\n",
    "df['feat_24'] = df['feat_04'] / (df['feat_08'] + 0.01) #close\n",
    "\n",
    "# feat_01 thể hiện giá trung bình của 5 ngày gần nhất\n",
    "# feat_05 thể hiện giá trung bìh của 30 ngày gần nhất\n",
    "# feat_21 = feat 01 / feat 05 thể hiện tốc độ thay đổi về gía. --> hiểu tại sao nó quan trọng"
   ]
  },
  {
   "cell_type": "code",
   "execution_count": 62,
   "metadata": {},
   "outputs": [],
   "source": [
    "### product\n",
    "df['feat_25'] = df['Open'] * df['Volume']  #---> total money tính trên giá Open\n",
    "df['feat_26'] = df['High'] * df['Volume'] #---> total money giá High\n",
    "df['feat_27'] = df['Low'] * df['Volume'] #-----> total money giá Low\n",
    "df['feat_28'] = df['Close'] * df['Volume'] #----> total money giá Close"
   ]
  },
  {
   "cell_type": "code",
   "execution_count": 64,
   "metadata": {},
   "outputs": [],
   "source": [
    "## difference feature\n",
    "df['feat_29'] = df['feat_02'] - df['feat_03']  # coi độ lệch giá\n",
    "df['feat_30'] = df['feat_04'] - df['feat_01']"
   ]
  },
  {
   "cell_type": "code",
   "execution_count": 65,
   "metadata": {},
   "outputs": [],
   "source": [
    "df['feat_31'] = df['Date'].dt.day_name()"
   ]
  },
  {
   "cell_type": "code",
   "execution_count": 66,
   "metadata": {},
   "outputs": [],
   "source": [
    "df['feat_32'] = df['Date'].dt.month_name()"
   ]
  },
  {
   "cell_type": "code",
   "execution_count": 67,
   "metadata": {},
   "outputs": [
    {
     "data": {
      "text/html": [
       "<div>\n",
       "<style scoped>\n",
       "    .dataframe tbody tr th:only-of-type {\n",
       "        vertical-align: middle;\n",
       "    }\n",
       "\n",
       "    .dataframe tbody tr th {\n",
       "        vertical-align: top;\n",
       "    }\n",
       "\n",
       "    .dataframe thead th {\n",
       "        text-align: right;\n",
       "    }\n",
       "</style>\n",
       "<table border=\"1\" class=\"dataframe\">\n",
       "  <thead>\n",
       "    <tr style=\"text-align: right;\">\n",
       "      <th></th>\n",
       "      <th>Date</th>\n",
       "      <th>Open</th>\n",
       "      <th>High</th>\n",
       "      <th>Low</th>\n",
       "      <th>Close</th>\n",
       "      <th>Volume</th>\n",
       "      <th>Adj Close</th>\n",
       "      <th>feat_01</th>\n",
       "      <th>feat_03</th>\n",
       "      <th>feat_04</th>\n",
       "      <th>...</th>\n",
       "      <th>feat_23</th>\n",
       "      <th>feat_24</th>\n",
       "      <th>feat_25</th>\n",
       "      <th>feat_26</th>\n",
       "      <th>feat_27</th>\n",
       "      <th>feat_28</th>\n",
       "      <th>feat_29</th>\n",
       "      <th>feat_30</th>\n",
       "      <th>feat_31</th>\n",
       "      <th>feat_32</th>\n",
       "    </tr>\n",
       "  </thead>\n",
       "  <tbody>\n",
       "    <tr>\n",
       "      <th>0</th>\n",
       "      <td>1971-01-02</td>\n",
       "      <td>95.879997</td>\n",
       "      <td>97.050003</td>\n",
       "      <td>95.379997</td>\n",
       "      <td>96.419998</td>\n",
       "      <td>20650000</td>\n",
       "      <td>96.419998</td>\n",
       "      <td>0.000000</td>\n",
       "      <td>0.000000</td>\n",
       "      <td>0.000000</td>\n",
       "      <td>...</td>\n",
       "      <td>0.000000</td>\n",
       "      <td>0.000000</td>\n",
       "      <td>1.979922e+09</td>\n",
       "      <td>2.004083e+09</td>\n",
       "      <td>1.969597e+09</td>\n",
       "      <td>1.991073e+09</td>\n",
       "      <td>0.000</td>\n",
       "      <td>0.000000</td>\n",
       "      <td>Saturday</td>\n",
       "      <td>January</td>\n",
       "    </tr>\n",
       "    <tr>\n",
       "      <th>1</th>\n",
       "      <td>1971-01-03</td>\n",
       "      <td>96.750000</td>\n",
       "      <td>97.480003</td>\n",
       "      <td>96.110001</td>\n",
       "      <td>97.000000</td>\n",
       "      <td>13020000</td>\n",
       "      <td>97.000000</td>\n",
       "      <td>0.000000</td>\n",
       "      <td>0.000000</td>\n",
       "      <td>0.000000</td>\n",
       "      <td>...</td>\n",
       "      <td>0.000000</td>\n",
       "      <td>0.000000</td>\n",
       "      <td>1.259685e+09</td>\n",
       "      <td>1.269190e+09</td>\n",
       "      <td>1.251352e+09</td>\n",
       "      <td>1.262940e+09</td>\n",
       "      <td>0.000</td>\n",
       "      <td>0.000000</td>\n",
       "      <td>Sunday</td>\n",
       "      <td>January</td>\n",
       "    </tr>\n",
       "    <tr>\n",
       "      <th>2</th>\n",
       "      <td>1971-01-04</td>\n",
       "      <td>100.309998</td>\n",
       "      <td>100.989998</td>\n",
       "      <td>99.629997</td>\n",
       "      <td>100.389999</td>\n",
       "      <td>13470000</td>\n",
       "      <td>100.389999</td>\n",
       "      <td>0.000000</td>\n",
       "      <td>0.000000</td>\n",
       "      <td>0.000000</td>\n",
       "      <td>...</td>\n",
       "      <td>0.000000</td>\n",
       "      <td>0.000000</td>\n",
       "      <td>1.351176e+09</td>\n",
       "      <td>1.360335e+09</td>\n",
       "      <td>1.342016e+09</td>\n",
       "      <td>1.352253e+09</td>\n",
       "      <td>0.000</td>\n",
       "      <td>0.000000</td>\n",
       "      <td>Monday</td>\n",
       "      <td>January</td>\n",
       "    </tr>\n",
       "    <tr>\n",
       "      <th>3</th>\n",
       "      <td>1971-01-06</td>\n",
       "      <td>99.629997</td>\n",
       "      <td>100.760002</td>\n",
       "      <td>99.220001</td>\n",
       "      <td>100.199997</td>\n",
       "      <td>11930000</td>\n",
       "      <td>100.199997</td>\n",
       "      <td>0.000000</td>\n",
       "      <td>0.000000</td>\n",
       "      <td>0.000000</td>\n",
       "      <td>...</td>\n",
       "      <td>0.000000</td>\n",
       "      <td>0.000000</td>\n",
       "      <td>1.188586e+09</td>\n",
       "      <td>1.202067e+09</td>\n",
       "      <td>1.183695e+09</td>\n",
       "      <td>1.195386e+09</td>\n",
       "      <td>0.000</td>\n",
       "      <td>0.000000</td>\n",
       "      <td>Wednesday</td>\n",
       "      <td>January</td>\n",
       "    </tr>\n",
       "    <tr>\n",
       "      <th>4</th>\n",
       "      <td>1971-01-07</td>\n",
       "      <td>99.160004</td>\n",
       "      <td>100.650002</td>\n",
       "      <td>99.160004</td>\n",
       "      <td>99.779999</td>\n",
       "      <td>13090000</td>\n",
       "      <td>99.779999</td>\n",
       "      <td>0.000000</td>\n",
       "      <td>0.000000</td>\n",
       "      <td>0.000000</td>\n",
       "      <td>...</td>\n",
       "      <td>0.000000</td>\n",
       "      <td>0.000000</td>\n",
       "      <td>1.298004e+09</td>\n",
       "      <td>1.317509e+09</td>\n",
       "      <td>1.298004e+09</td>\n",
       "      <td>1.306120e+09</td>\n",
       "      <td>0.000</td>\n",
       "      <td>0.000000</td>\n",
       "      <td>Thursday</td>\n",
       "      <td>January</td>\n",
       "    </tr>\n",
       "    <tr>\n",
       "      <th>...</th>\n",
       "      <td>...</td>\n",
       "      <td>...</td>\n",
       "      <td>...</td>\n",
       "      <td>...</td>\n",
       "      <td>...</td>\n",
       "      <td>...</td>\n",
       "      <td>...</td>\n",
       "      <td>...</td>\n",
       "      <td>...</td>\n",
       "      <td>...</td>\n",
       "      <td>...</td>\n",
       "      <td>...</td>\n",
       "      <td>...</td>\n",
       "      <td>...</td>\n",
       "      <td>...</td>\n",
       "      <td>...</td>\n",
       "      <td>...</td>\n",
       "      <td>...</td>\n",
       "      <td>...</td>\n",
       "      <td>...</td>\n",
       "      <td>...</td>\n",
       "    </tr>\n",
       "    <tr>\n",
       "      <th>16585</th>\n",
       "      <td>2070-12-24</td>\n",
       "      <td>90.099998</td>\n",
       "      <td>91.080002</td>\n",
       "      <td>89.809998</td>\n",
       "      <td>90.610001</td>\n",
       "      <td>12140000</td>\n",
       "      <td>90.610001</td>\n",
       "      <td>90.769998</td>\n",
       "      <td>89.357999</td>\n",
       "      <td>84.810999</td>\n",
       "      <td>...</td>\n",
       "      <td>1.053489</td>\n",
       "      <td>0.991323</td>\n",
       "      <td>1.093814e+09</td>\n",
       "      <td>1.105711e+09</td>\n",
       "      <td>1.090293e+09</td>\n",
       "      <td>1.100005e+09</td>\n",
       "      <td>1.412</td>\n",
       "      <td>-5.958999</td>\n",
       "      <td>Wednesday</td>\n",
       "      <td>December</td>\n",
       "    </tr>\n",
       "    <tr>\n",
       "      <th>16586</th>\n",
       "      <td>2070-12-28</td>\n",
       "      <td>90.610001</td>\n",
       "      <td>91.489998</td>\n",
       "      <td>90.279999</td>\n",
       "      <td>91.089996</td>\n",
       "      <td>12290000</td>\n",
       "      <td>91.089996</td>\n",
       "      <td>90.863999</td>\n",
       "      <td>89.457999</td>\n",
       "      <td>85.077666</td>\n",
       "      <td>...</td>\n",
       "      <td>1.051363</td>\n",
       "      <td>0.991315</td>\n",
       "      <td>1.113597e+09</td>\n",
       "      <td>1.124412e+09</td>\n",
       "      <td>1.109541e+09</td>\n",
       "      <td>1.119496e+09</td>\n",
       "      <td>1.406</td>\n",
       "      <td>-5.786333</td>\n",
       "      <td>Sunday</td>\n",
       "      <td>December</td>\n",
       "    </tr>\n",
       "    <tr>\n",
       "      <th>16587</th>\n",
       "      <td>2070-12-29</td>\n",
       "      <td>91.089996</td>\n",
       "      <td>92.379997</td>\n",
       "      <td>90.730003</td>\n",
       "      <td>92.080002</td>\n",
       "      <td>17750000</td>\n",
       "      <td>92.080002</td>\n",
       "      <td>91.007999</td>\n",
       "      <td>89.629999</td>\n",
       "      <td>85.263999</td>\n",
       "      <td>...</td>\n",
       "      <td>1.051082</td>\n",
       "      <td>0.991154</td>\n",
       "      <td>1.616847e+09</td>\n",
       "      <td>1.639745e+09</td>\n",
       "      <td>1.610458e+09</td>\n",
       "      <td>1.634420e+09</td>\n",
       "      <td>1.378</td>\n",
       "      <td>-5.744000</td>\n",
       "      <td>Monday</td>\n",
       "      <td>December</td>\n",
       "    </tr>\n",
       "    <tr>\n",
       "      <th>16588</th>\n",
       "      <td>2070-12-30</td>\n",
       "      <td>92.080002</td>\n",
       "      <td>92.989998</td>\n",
       "      <td>91.599998</td>\n",
       "      <td>92.269997</td>\n",
       "      <td>19140000</td>\n",
       "      <td>92.269997</td>\n",
       "      <td>91.329999</td>\n",
       "      <td>89.903999</td>\n",
       "      <td>85.306999</td>\n",
       "      <td>...</td>\n",
       "      <td>1.053764</td>\n",
       "      <td>0.990955</td>\n",
       "      <td>1.762411e+09</td>\n",
       "      <td>1.779829e+09</td>\n",
       "      <td>1.753224e+09</td>\n",
       "      <td>1.766048e+09</td>\n",
       "      <td>1.426</td>\n",
       "      <td>-6.023000</td>\n",
       "      <td>Tuesday</td>\n",
       "      <td>December</td>\n",
       "    </tr>\n",
       "    <tr>\n",
       "      <th>16589</th>\n",
       "      <td>2070-12-31</td>\n",
       "      <td>92.269997</td>\n",
       "      <td>92.790001</td>\n",
       "      <td>91.360001</td>\n",
       "      <td>92.150002</td>\n",
       "      <td>13390000</td>\n",
       "      <td>92.150002</td>\n",
       "      <td>91.759999</td>\n",
       "      <td>90.353999</td>\n",
       "      <td>85.596333</td>\n",
       "      <td>...</td>\n",
       "      <td>1.055459</td>\n",
       "      <td>0.990901</td>\n",
       "      <td>1.235495e+09</td>\n",
       "      <td>1.242458e+09</td>\n",
       "      <td>1.223310e+09</td>\n",
       "      <td>1.233889e+09</td>\n",
       "      <td>1.406</td>\n",
       "      <td>-6.163667</td>\n",
       "      <td>Wednesday</td>\n",
       "      <td>December</td>\n",
       "    </tr>\n",
       "  </tbody>\n",
       "</table>\n",
       "<p>16590 rows × 39 columns</p>\n",
       "</div>"
      ],
      "text/plain": [
       "            Date        Open        High        Low       Close    Volume  \\\n",
       "0     1971-01-02   95.879997   97.050003  95.379997   96.419998  20650000   \n",
       "1     1971-01-03   96.750000   97.480003  96.110001   97.000000  13020000   \n",
       "2     1971-01-04  100.309998  100.989998  99.629997  100.389999  13470000   \n",
       "3     1971-01-06   99.629997  100.760002  99.220001  100.199997  11930000   \n",
       "4     1971-01-07   99.160004  100.650002  99.160004   99.779999  13090000   \n",
       "...          ...         ...         ...        ...         ...       ...   \n",
       "16585 2070-12-24   90.099998   91.080002  89.809998   90.610001  12140000   \n",
       "16586 2070-12-28   90.610001   91.489998  90.279999   91.089996  12290000   \n",
       "16587 2070-12-29   91.089996   92.379997  90.730003   92.080002  17750000   \n",
       "16588 2070-12-30   92.080002   92.989998  91.599998   92.269997  19140000   \n",
       "16589 2070-12-31   92.269997   92.790001  91.360001   92.150002  13390000   \n",
       "\n",
       "        Adj Close    feat_01    feat_03    feat_04  ...   feat_23   feat_24  \\\n",
       "0       96.419998   0.000000   0.000000   0.000000  ...  0.000000  0.000000   \n",
       "1       97.000000   0.000000   0.000000   0.000000  ...  0.000000  0.000000   \n",
       "2      100.389999   0.000000   0.000000   0.000000  ...  0.000000  0.000000   \n",
       "3      100.199997   0.000000   0.000000   0.000000  ...  0.000000  0.000000   \n",
       "4       99.779999   0.000000   0.000000   0.000000  ...  0.000000  0.000000   \n",
       "...           ...        ...        ...        ...  ...       ...       ...   \n",
       "16585   90.610001  90.769998  89.357999  84.810999  ...  1.053489  0.991323   \n",
       "16586   91.089996  90.863999  89.457999  85.077666  ...  1.051363  0.991315   \n",
       "16587   92.080002  91.007999  89.629999  85.263999  ...  1.051082  0.991154   \n",
       "16588   92.269997  91.329999  89.903999  85.306999  ...  1.053764  0.990955   \n",
       "16589   92.150002  91.759999  90.353999  85.596333  ...  1.055459  0.990901   \n",
       "\n",
       "            feat_25       feat_26       feat_27       feat_28  feat_29  \\\n",
       "0      1.979922e+09  2.004083e+09  1.969597e+09  1.991073e+09    0.000   \n",
       "1      1.259685e+09  1.269190e+09  1.251352e+09  1.262940e+09    0.000   \n",
       "2      1.351176e+09  1.360335e+09  1.342016e+09  1.352253e+09    0.000   \n",
       "3      1.188586e+09  1.202067e+09  1.183695e+09  1.195386e+09    0.000   \n",
       "4      1.298004e+09  1.317509e+09  1.298004e+09  1.306120e+09    0.000   \n",
       "...             ...           ...           ...           ...      ...   \n",
       "16585  1.093814e+09  1.105711e+09  1.090293e+09  1.100005e+09    1.412   \n",
       "16586  1.113597e+09  1.124412e+09  1.109541e+09  1.119496e+09    1.406   \n",
       "16587  1.616847e+09  1.639745e+09  1.610458e+09  1.634420e+09    1.378   \n",
       "16588  1.762411e+09  1.779829e+09  1.753224e+09  1.766048e+09    1.426   \n",
       "16589  1.235495e+09  1.242458e+09  1.223310e+09  1.233889e+09    1.406   \n",
       "\n",
       "        feat_30    feat_31   feat_32  \n",
       "0      0.000000   Saturday   January  \n",
       "1      0.000000     Sunday   January  \n",
       "2      0.000000     Monday   January  \n",
       "3      0.000000  Wednesday   January  \n",
       "4      0.000000   Thursday   January  \n",
       "...         ...        ...       ...  \n",
       "16585 -5.958999  Wednesday  December  \n",
       "16586 -5.786333     Sunday  December  \n",
       "16587 -5.744000     Monday  December  \n",
       "16588 -6.023000    Tuesday  December  \n",
       "16589 -6.163667  Wednesday  December  \n",
       "\n",
       "[16590 rows x 39 columns]"
      ]
     },
     "execution_count": 67,
     "metadata": {},
     "output_type": "execute_result"
    }
   ],
   "source": [
    "df"
   ]
  },
  {
   "cell_type": "code",
   "execution_count": 68,
   "metadata": {},
   "outputs": [],
   "source": [
    "### feature engineering"
   ]
  },
  {
   "cell_type": "code",
   "execution_count": 69,
   "metadata": {},
   "outputs": [],
   "source": [
    "### practice machine learning"
   ]
  },
  {
   "cell_type": "code",
   "execution_count": 70,
   "metadata": {},
   "outputs": [],
   "source": [
    "### dự đoán giá mở cửa\n",
    "df_final = df.drop(columns = ['High', 'Close', 'Volume', 'Adj Close'])"
   ]
  },
  {
   "cell_type": "code",
   "execution_count": 71,
   "metadata": {},
   "outputs": [
    {
     "data": {
      "text/html": [
       "<div>\n",
       "<style scoped>\n",
       "    .dataframe tbody tr th:only-of-type {\n",
       "        vertical-align: middle;\n",
       "    }\n",
       "\n",
       "    .dataframe tbody tr th {\n",
       "        vertical-align: top;\n",
       "    }\n",
       "\n",
       "    .dataframe thead th {\n",
       "        text-align: right;\n",
       "    }\n",
       "</style>\n",
       "<table border=\"1\" class=\"dataframe\">\n",
       "  <thead>\n",
       "    <tr style=\"text-align: right;\">\n",
       "      <th></th>\n",
       "      <th>Date</th>\n",
       "      <th>Open</th>\n",
       "      <th>Low</th>\n",
       "      <th>feat_01</th>\n",
       "      <th>feat_03</th>\n",
       "      <th>feat_04</th>\n",
       "      <th>feat_02</th>\n",
       "      <th>feat_08</th>\n",
       "      <th>feat_07</th>\n",
       "      <th>feat_06</th>\n",
       "      <th>...</th>\n",
       "      <th>feat_23</th>\n",
       "      <th>feat_24</th>\n",
       "      <th>feat_25</th>\n",
       "      <th>feat_26</th>\n",
       "      <th>feat_27</th>\n",
       "      <th>feat_28</th>\n",
       "      <th>feat_29</th>\n",
       "      <th>feat_30</th>\n",
       "      <th>feat_31</th>\n",
       "      <th>feat_32</th>\n",
       "    </tr>\n",
       "  </thead>\n",
       "  <tbody>\n",
       "    <tr>\n",
       "      <th>0</th>\n",
       "      <td>1971-01-02</td>\n",
       "      <td>95.879997</td>\n",
       "      <td>95.379997</td>\n",
       "      <td>0.000000</td>\n",
       "      <td>0.000000</td>\n",
       "      <td>0.000000</td>\n",
       "      <td>0.000000</td>\n",
       "      <td>0.000000</td>\n",
       "      <td>0.000000</td>\n",
       "      <td>0.000000</td>\n",
       "      <td>...</td>\n",
       "      <td>0.000000</td>\n",
       "      <td>0.000000</td>\n",
       "      <td>1.979922e+09</td>\n",
       "      <td>2.004083e+09</td>\n",
       "      <td>1.969597e+09</td>\n",
       "      <td>1.991073e+09</td>\n",
       "      <td>0.000</td>\n",
       "      <td>0.000000</td>\n",
       "      <td>Saturday</td>\n",
       "      <td>January</td>\n",
       "    </tr>\n",
       "    <tr>\n",
       "      <th>1</th>\n",
       "      <td>1971-01-03</td>\n",
       "      <td>96.750000</td>\n",
       "      <td>96.110001</td>\n",
       "      <td>0.000000</td>\n",
       "      <td>0.000000</td>\n",
       "      <td>0.000000</td>\n",
       "      <td>0.000000</td>\n",
       "      <td>0.000000</td>\n",
       "      <td>0.000000</td>\n",
       "      <td>0.000000</td>\n",
       "      <td>...</td>\n",
       "      <td>0.000000</td>\n",
       "      <td>0.000000</td>\n",
       "      <td>1.259685e+09</td>\n",
       "      <td>1.269190e+09</td>\n",
       "      <td>1.251352e+09</td>\n",
       "      <td>1.262940e+09</td>\n",
       "      <td>0.000</td>\n",
       "      <td>0.000000</td>\n",
       "      <td>Sunday</td>\n",
       "      <td>January</td>\n",
       "    </tr>\n",
       "    <tr>\n",
       "      <th>2</th>\n",
       "      <td>1971-01-04</td>\n",
       "      <td>100.309998</td>\n",
       "      <td>99.629997</td>\n",
       "      <td>0.000000</td>\n",
       "      <td>0.000000</td>\n",
       "      <td>0.000000</td>\n",
       "      <td>0.000000</td>\n",
       "      <td>0.000000</td>\n",
       "      <td>0.000000</td>\n",
       "      <td>0.000000</td>\n",
       "      <td>...</td>\n",
       "      <td>0.000000</td>\n",
       "      <td>0.000000</td>\n",
       "      <td>1.351176e+09</td>\n",
       "      <td>1.360335e+09</td>\n",
       "      <td>1.342016e+09</td>\n",
       "      <td>1.352253e+09</td>\n",
       "      <td>0.000</td>\n",
       "      <td>0.000000</td>\n",
       "      <td>Monday</td>\n",
       "      <td>January</td>\n",
       "    </tr>\n",
       "    <tr>\n",
       "      <th>3</th>\n",
       "      <td>1971-01-06</td>\n",
       "      <td>99.629997</td>\n",
       "      <td>99.220001</td>\n",
       "      <td>0.000000</td>\n",
       "      <td>0.000000</td>\n",
       "      <td>0.000000</td>\n",
       "      <td>0.000000</td>\n",
       "      <td>0.000000</td>\n",
       "      <td>0.000000</td>\n",
       "      <td>0.000000</td>\n",
       "      <td>...</td>\n",
       "      <td>0.000000</td>\n",
       "      <td>0.000000</td>\n",
       "      <td>1.188586e+09</td>\n",
       "      <td>1.202067e+09</td>\n",
       "      <td>1.183695e+09</td>\n",
       "      <td>1.195386e+09</td>\n",
       "      <td>0.000</td>\n",
       "      <td>0.000000</td>\n",
       "      <td>Wednesday</td>\n",
       "      <td>January</td>\n",
       "    </tr>\n",
       "    <tr>\n",
       "      <th>4</th>\n",
       "      <td>1971-01-07</td>\n",
       "      <td>99.160004</td>\n",
       "      <td>99.160004</td>\n",
       "      <td>0.000000</td>\n",
       "      <td>0.000000</td>\n",
       "      <td>0.000000</td>\n",
       "      <td>0.000000</td>\n",
       "      <td>0.000000</td>\n",
       "      <td>0.000000</td>\n",
       "      <td>0.000000</td>\n",
       "      <td>...</td>\n",
       "      <td>0.000000</td>\n",
       "      <td>0.000000</td>\n",
       "      <td>1.298004e+09</td>\n",
       "      <td>1.317509e+09</td>\n",
       "      <td>1.298004e+09</td>\n",
       "      <td>1.306120e+09</td>\n",
       "      <td>0.000</td>\n",
       "      <td>0.000000</td>\n",
       "      <td>Thursday</td>\n",
       "      <td>January</td>\n",
       "    </tr>\n",
       "    <tr>\n",
       "      <th>...</th>\n",
       "      <td>...</td>\n",
       "      <td>...</td>\n",
       "      <td>...</td>\n",
       "      <td>...</td>\n",
       "      <td>...</td>\n",
       "      <td>...</td>\n",
       "      <td>...</td>\n",
       "      <td>...</td>\n",
       "      <td>...</td>\n",
       "      <td>...</td>\n",
       "      <td>...</td>\n",
       "      <td>...</td>\n",
       "      <td>...</td>\n",
       "      <td>...</td>\n",
       "      <td>...</td>\n",
       "      <td>...</td>\n",
       "      <td>...</td>\n",
       "      <td>...</td>\n",
       "      <td>...</td>\n",
       "      <td>...</td>\n",
       "      <td>...</td>\n",
       "    </tr>\n",
       "    <tr>\n",
       "      <th>16585</th>\n",
       "      <td>2070-12-24</td>\n",
       "      <td>90.099998</td>\n",
       "      <td>89.809998</td>\n",
       "      <td>90.769998</td>\n",
       "      <td>89.357999</td>\n",
       "      <td>84.810999</td>\n",
       "      <td>90.769998</td>\n",
       "      <td>85.543333</td>\n",
       "      <td>84.810999</td>\n",
       "      <td>86.286999</td>\n",
       "      <td>...</td>\n",
       "      <td>1.053489</td>\n",
       "      <td>0.991323</td>\n",
       "      <td>1.093814e+09</td>\n",
       "      <td>1.105711e+09</td>\n",
       "      <td>1.090293e+09</td>\n",
       "      <td>1.100005e+09</td>\n",
       "      <td>1.412</td>\n",
       "      <td>-5.958999</td>\n",
       "      <td>Wednesday</td>\n",
       "      <td>December</td>\n",
       "    </tr>\n",
       "    <tr>\n",
       "      <th>16586</th>\n",
       "      <td>2070-12-28</td>\n",
       "      <td>90.610001</td>\n",
       "      <td>90.279999</td>\n",
       "      <td>90.863999</td>\n",
       "      <td>89.457999</td>\n",
       "      <td>85.077666</td>\n",
       "      <td>90.863999</td>\n",
       "      <td>85.813000</td>\n",
       "      <td>85.077666</td>\n",
       "      <td>86.549999</td>\n",
       "      <td>...</td>\n",
       "      <td>1.051363</td>\n",
       "      <td>0.991315</td>\n",
       "      <td>1.113597e+09</td>\n",
       "      <td>1.124412e+09</td>\n",
       "      <td>1.109541e+09</td>\n",
       "      <td>1.119496e+09</td>\n",
       "      <td>1.406</td>\n",
       "      <td>-5.786333</td>\n",
       "      <td>Sunday</td>\n",
       "      <td>December</td>\n",
       "    </tr>\n",
       "    <tr>\n",
       "      <th>16587</th>\n",
       "      <td>2070-12-29</td>\n",
       "      <td>91.089996</td>\n",
       "      <td>90.730003</td>\n",
       "      <td>91.007999</td>\n",
       "      <td>89.629999</td>\n",
       "      <td>85.263999</td>\n",
       "      <td>91.007999</td>\n",
       "      <td>86.015000</td>\n",
       "      <td>85.263999</td>\n",
       "      <td>86.724999</td>\n",
       "      <td>...</td>\n",
       "      <td>1.051082</td>\n",
       "      <td>0.991154</td>\n",
       "      <td>1.616847e+09</td>\n",
       "      <td>1.639745e+09</td>\n",
       "      <td>1.610458e+09</td>\n",
       "      <td>1.634420e+09</td>\n",
       "      <td>1.378</td>\n",
       "      <td>-5.744000</td>\n",
       "      <td>Monday</td>\n",
       "      <td>December</td>\n",
       "    </tr>\n",
       "    <tr>\n",
       "      <th>16588</th>\n",
       "      <td>2070-12-30</td>\n",
       "      <td>92.080002</td>\n",
       "      <td>91.599998</td>\n",
       "      <td>91.329999</td>\n",
       "      <td>89.903999</td>\n",
       "      <td>85.306999</td>\n",
       "      <td>91.329999</td>\n",
       "      <td>86.075667</td>\n",
       "      <td>85.306999</td>\n",
       "      <td>86.773332</td>\n",
       "      <td>...</td>\n",
       "      <td>1.053764</td>\n",
       "      <td>0.990955</td>\n",
       "      <td>1.762411e+09</td>\n",
       "      <td>1.779829e+09</td>\n",
       "      <td>1.753224e+09</td>\n",
       "      <td>1.766048e+09</td>\n",
       "      <td>1.426</td>\n",
       "      <td>-6.023000</td>\n",
       "      <td>Tuesday</td>\n",
       "      <td>December</td>\n",
       "    </tr>\n",
       "    <tr>\n",
       "      <th>16589</th>\n",
       "      <td>2070-12-31</td>\n",
       "      <td>92.269997</td>\n",
       "      <td>91.360001</td>\n",
       "      <td>91.759999</td>\n",
       "      <td>90.353999</td>\n",
       "      <td>85.596333</td>\n",
       "      <td>91.759999</td>\n",
       "      <td>86.372333</td>\n",
       "      <td>85.596333</td>\n",
       "      <td>87.061999</td>\n",
       "      <td>...</td>\n",
       "      <td>1.055459</td>\n",
       "      <td>0.990901</td>\n",
       "      <td>1.235495e+09</td>\n",
       "      <td>1.242458e+09</td>\n",
       "      <td>1.223310e+09</td>\n",
       "      <td>1.233889e+09</td>\n",
       "      <td>1.406</td>\n",
       "      <td>-6.163667</td>\n",
       "      <td>Wednesday</td>\n",
       "      <td>December</td>\n",
       "    </tr>\n",
       "  </tbody>\n",
       "</table>\n",
       "<p>16590 rows × 35 columns</p>\n",
       "</div>"
      ],
      "text/plain": [
       "            Date        Open        Low    feat_01    feat_03    feat_04  \\\n",
       "0     1971-01-02   95.879997  95.379997   0.000000   0.000000   0.000000   \n",
       "1     1971-01-03   96.750000  96.110001   0.000000   0.000000   0.000000   \n",
       "2     1971-01-04  100.309998  99.629997   0.000000   0.000000   0.000000   \n",
       "3     1971-01-06   99.629997  99.220001   0.000000   0.000000   0.000000   \n",
       "4     1971-01-07   99.160004  99.160004   0.000000   0.000000   0.000000   \n",
       "...          ...         ...        ...        ...        ...        ...   \n",
       "16585 2070-12-24   90.099998  89.809998  90.769998  89.357999  84.810999   \n",
       "16586 2070-12-28   90.610001  90.279999  90.863999  89.457999  85.077666   \n",
       "16587 2070-12-29   91.089996  90.730003  91.007999  89.629999  85.263999   \n",
       "16588 2070-12-30   92.080002  91.599998  91.329999  89.903999  85.306999   \n",
       "16589 2070-12-31   92.269997  91.360001  91.759999  90.353999  85.596333   \n",
       "\n",
       "         feat_02    feat_08    feat_07    feat_06  ...   feat_23   feat_24  \\\n",
       "0       0.000000   0.000000   0.000000   0.000000  ...  0.000000  0.000000   \n",
       "1       0.000000   0.000000   0.000000   0.000000  ...  0.000000  0.000000   \n",
       "2       0.000000   0.000000   0.000000   0.000000  ...  0.000000  0.000000   \n",
       "3       0.000000   0.000000   0.000000   0.000000  ...  0.000000  0.000000   \n",
       "4       0.000000   0.000000   0.000000   0.000000  ...  0.000000  0.000000   \n",
       "...          ...        ...        ...        ...  ...       ...       ...   \n",
       "16585  90.769998  85.543333  84.810999  86.286999  ...  1.053489  0.991323   \n",
       "16586  90.863999  85.813000  85.077666  86.549999  ...  1.051363  0.991315   \n",
       "16587  91.007999  86.015000  85.263999  86.724999  ...  1.051082  0.991154   \n",
       "16588  91.329999  86.075667  85.306999  86.773332  ...  1.053764  0.990955   \n",
       "16589  91.759999  86.372333  85.596333  87.061999  ...  1.055459  0.990901   \n",
       "\n",
       "            feat_25       feat_26       feat_27       feat_28  feat_29  \\\n",
       "0      1.979922e+09  2.004083e+09  1.969597e+09  1.991073e+09    0.000   \n",
       "1      1.259685e+09  1.269190e+09  1.251352e+09  1.262940e+09    0.000   \n",
       "2      1.351176e+09  1.360335e+09  1.342016e+09  1.352253e+09    0.000   \n",
       "3      1.188586e+09  1.202067e+09  1.183695e+09  1.195386e+09    0.000   \n",
       "4      1.298004e+09  1.317509e+09  1.298004e+09  1.306120e+09    0.000   \n",
       "...             ...           ...           ...           ...      ...   \n",
       "16585  1.093814e+09  1.105711e+09  1.090293e+09  1.100005e+09    1.412   \n",
       "16586  1.113597e+09  1.124412e+09  1.109541e+09  1.119496e+09    1.406   \n",
       "16587  1.616847e+09  1.639745e+09  1.610458e+09  1.634420e+09    1.378   \n",
       "16588  1.762411e+09  1.779829e+09  1.753224e+09  1.766048e+09    1.426   \n",
       "16589  1.235495e+09  1.242458e+09  1.223310e+09  1.233889e+09    1.406   \n",
       "\n",
       "        feat_30    feat_31   feat_32  \n",
       "0      0.000000   Saturday   January  \n",
       "1      0.000000     Sunday   January  \n",
       "2      0.000000     Monday   January  \n",
       "3      0.000000  Wednesday   January  \n",
       "4      0.000000   Thursday   January  \n",
       "...         ...        ...       ...  \n",
       "16585 -5.958999  Wednesday  December  \n",
       "16586 -5.786333     Sunday  December  \n",
       "16587 -5.744000     Monday  December  \n",
       "16588 -6.023000    Tuesday  December  \n",
       "16589 -6.163667  Wednesday  December  \n",
       "\n",
       "[16590 rows x 35 columns]"
      ]
     },
     "execution_count": 71,
     "metadata": {},
     "output_type": "execute_result"
    }
   ],
   "source": [
    "df_final"
   ]
  },
  {
   "cell_type": "code",
   "execution_count": 73,
   "metadata": {},
   "outputs": [],
   "source": [
    "### phần train < 2014 --- train \n",
    "### test >= 2014 \n",
    "from datetime import datetime"
   ]
  },
  {
   "cell_type": "code",
   "execution_count": 75,
   "metadata": {},
   "outputs": [],
   "source": [
    "train = df[df.Date < datetime(year = 2014, month = 1, day =1)]\n",
    "test = df[df.Date >= datetime(year = 2014, month = 1, day =1)]"
   ]
  },
  {
   "cell_type": "code",
   "execution_count": 81,
   "metadata": {},
   "outputs": [],
   "source": [
    "#numerical, feature\n",
    "#approach 1,bỏ hết categorical feature, chỉ sử dụng numerical feature\n",
    "li_feats = ['feat_01','feat_02','feat_03','feat_04','feat_05',\n",
    "           'feat_06','feat_07','feat_08','feat_09','feat_10',\n",
    "           'feat_11','feat_12','feat_13','feat_14','feat_15',\n",
    "           'feat_16','feat_17','feat_18','feat_19','feat_20',\n",
    "           'feat_21','feat_22','feat_23','feat_24','feat_25',\n",
    "           'feat_26','feat_27','feat_28','feat_29','feat_30']\n",
    "\n",
    "# X_train, y_train, X_test, y_test\n",
    "X_train = train[li_feats]\n",
    "y_train = train['Open']\n",
    "\n",
    "X_test = test[li_feats]\n",
    "y_test = test['Open']\n"
   ]
  },
  {
   "cell_type": "code",
   "execution_count": 142,
   "metadata": {},
   "outputs": [],
   "source": [
    "# cho cách 2: \n",
    "# convert categorical --> numerical --> one-hot encoding, or label encoding\n",
    "X_train = train[li_feats]"
   ]
  },
  {
   "cell_type": "code",
   "execution_count": null,
   "metadata": {},
   "outputs": [],
   "source": [
    "#pd.get_dummies\n",
    "pd.get_dummies(X_train, prefix = [col], columns = [col])"
   ]
  },
  {
   "cell_type": "code",
   "execution_count": null,
   "metadata": {},
   "outputs": [],
   "source": [
    "# modeal ---> Linear regression, random forest, xgboost, catboost, lightGBM\n",
    "\n",
    "# use LinearRegression ---> scaling, những mô hình tính đến yếu tô khoảng cách (Linear Regression)\n",
    "\n",
    "#scaling không đảm bảo tính toán chính xác 100% \n",
    "\n",
    "# có 2 cách scaling: standardScaling, MinMaxScaling(giá trị lớn nhất, nhỏ nhất của feature đó)"
   ]
  },
  {
   "cell_type": "code",
   "execution_count": 83,
   "metadata": {},
   "outputs": [],
   "source": [
    "from sklearn.preprocessing import StandardScaler, MinMaxScaler"
   ]
  },
  {
   "cell_type": "code",
   "execution_count": 84,
   "metadata": {},
   "outputs": [],
   "source": [
    "scaler = StandardScaler()"
   ]
  },
  {
   "cell_type": "code",
   "execution_count": 93,
   "metadata": {},
   "outputs": [],
   "source": [
    "X_train_sc = scaler.fit_transform(X_train)  # fit là để tìm ra tham số (shape) của độ phân bố của hình \n",
    "X_test_sc = scaler.transform(X_test)  #sau khi fit trên X_train thì sử dụng cái fit đó trên X_test"
   ]
  },
  {
   "cell_type": "code",
   "execution_count": 94,
   "metadata": {},
   "outputs": [],
   "source": [
    "#X_train_sc. X_test_sc, y_train, y_test"
   ]
  },
  {
   "cell_type": "code",
   "execution_count": 108,
   "metadata": {},
   "outputs": [],
   "source": [
    "from sklearn.linear_model import LinearRegression\n",
    "from sklearn.ensemble import RandomForestRegressor\n",
    "\n",
    "#XGBOOST #CatBoost #LightGBM"
   ]
  },
  {
   "cell_type": "code",
   "execution_count": 97,
   "metadata": {},
   "outputs": [
    {
     "name": "stdout",
     "output_type": "stream",
     "text": [
      "Collecting xgboost\n",
      "  Downloading xgboost-1.3.3-py3-none-macosx_10_14_x86_64.macosx_10_15_x86_64.macosx_11_0_x86_64.whl (1.2 MB)\n",
      "\u001b[K     |████████████████████████████████| 1.2 MB 2.2 MB/s eta 0:00:01\n",
      "\u001b[?25hRequirement already satisfied: scipy in /Users/stephaniebui/opt/anaconda3/envs/lanhuong/lib/python3.7/site-packages (from xgboost) (1.5.2)\n",
      "Requirement already satisfied: numpy in /Users/stephaniebui/opt/anaconda3/envs/lanhuong/lib/python3.7/site-packages (from xgboost) (1.19.2)\n",
      "Installing collected packages: xgboost\n",
      "Successfully installed xgboost-1.3.3\n"
     ]
    }
   ],
   "source": [
    "!pip install xgboost\n"
   ]
  },
  {
   "cell_type": "code",
   "execution_count": 101,
   "metadata": {},
   "outputs": [
    {
     "name": "stdout",
     "output_type": "stream",
     "text": [
      "Collecting catboost\n",
      "  Downloading catboost-0.24.4-cp37-none-macosx_10_6_intel.macosx_10_9_intel.macosx_10_9_x86_64.macosx_10_10_intel.macosx_10_10_x86_64.whl (11.1 MB)\n",
      "\u001b[K     |████████████████████████████████| 11.1 MB 991 kB/s eta 0:00:01\n",
      "\u001b[?25hRequirement already satisfied: numpy>=1.16.0 in /Users/stephaniebui/opt/anaconda3/envs/lanhuong/lib/python3.7/site-packages (from catboost) (1.19.2)\n",
      "Requirement already satisfied: six in /Users/stephaniebui/opt/anaconda3/envs/lanhuong/lib/python3.7/site-packages (from catboost) (1.15.0)\n",
      "Requirement already satisfied: pandas>=0.24.0 in /Users/stephaniebui/opt/anaconda3/envs/lanhuong/lib/python3.7/site-packages (from catboost) (1.1.5)\n",
      "Requirement already satisfied: scipy in /Users/stephaniebui/opt/anaconda3/envs/lanhuong/lib/python3.7/site-packages (from catboost) (1.5.2)\n",
      "Requirement already satisfied: plotly in /Users/stephaniebui/opt/anaconda3/envs/lanhuong/lib/python3.7/site-packages (from catboost) (4.14.1)\n",
      "Requirement already satisfied: matplotlib in /Users/stephaniebui/opt/anaconda3/envs/lanhuong/lib/python3.7/site-packages (from catboost) (3.3.2)\n",
      "Requirement already satisfied: python-dateutil>=2.7.3 in /Users/stephaniebui/opt/anaconda3/envs/lanhuong/lib/python3.7/site-packages (from pandas>=0.24.0->catboost) (2.8.1)\n",
      "Requirement already satisfied: pytz>=2017.2 in /Users/stephaniebui/opt/anaconda3/envs/lanhuong/lib/python3.7/site-packages (from pandas>=0.24.0->catboost) (2020.5)\n",
      "Collecting graphviz\n",
      "  Downloading graphviz-0.16-py2.py3-none-any.whl (19 kB)\n",
      "Requirement already satisfied: pyparsing!=2.0.4,!=2.1.2,!=2.1.6,>=2.0.3 in /Users/stephaniebui/opt/anaconda3/envs/lanhuong/lib/python3.7/site-packages (from matplotlib->catboost) (2.4.7)\n",
      "Requirement already satisfied: pillow>=6.2.0 in /Users/stephaniebui/opt/anaconda3/envs/lanhuong/lib/python3.7/site-packages (from matplotlib->catboost) (8.0.1)\n",
      "Requirement already satisfied: cycler>=0.10 in /Users/stephaniebui/opt/anaconda3/envs/lanhuong/lib/python3.7/site-packages (from matplotlib->catboost) (0.10.0)\n",
      "Requirement already satisfied: certifi>=2020.06.20 in /Users/stephaniebui/opt/anaconda3/envs/lanhuong/lib/python3.7/site-packages (from matplotlib->catboost) (2020.12.5)\n",
      "Requirement already satisfied: kiwisolver>=1.0.1 in /Users/stephaniebui/opt/anaconda3/envs/lanhuong/lib/python3.7/site-packages (from matplotlib->catboost) (1.3.0)\n",
      "Requirement already satisfied: retrying>=1.3.3 in /Users/stephaniebui/opt/anaconda3/envs/lanhuong/lib/python3.7/site-packages (from plotly->catboost) (1.3.3)\n",
      "Installing collected packages: graphviz, catboost\n",
      "Successfully installed catboost-0.24.4 graphviz-0.16\n"
     ]
    }
   ],
   "source": [
    "!pip install catboost"
   ]
  },
  {
   "cell_type": "code",
   "execution_count": 122,
   "metadata": {},
   "outputs": [],
   "source": [
    "#model = LinearRegression()  #tuning parameter\n",
    "model = RandomForestRegressor(n_estimators = 500) # cần tuning mới có kết quả tốt"
   ]
  },
  {
   "cell_type": "code",
   "execution_count": 135,
   "metadata": {},
   "outputs": [
    {
     "data": {
      "text/plain": [
       "RandomForestRegressor()"
      ]
     },
     "execution_count": 135,
     "metadata": {},
     "output_type": "execute_result"
    }
   ],
   "source": [
    "#model.fit(X_train_sc, y_train)\n",
    "model.fit(X_train, y_train)"
   ]
  },
  {
   "cell_type": "code",
   "execution_count": 136,
   "metadata": {},
   "outputs": [],
   "source": [
    "#### predict\n",
    "#predictions = model.predict(X_test_sc)\n",
    "predictions = model.predict(X_test)"
   ]
  },
  {
   "cell_type": "code",
   "execution_count": 137,
   "metadata": {},
   "outputs": [
    {
     "data": {
      "text/plain": [
       "array([1811.17658556, 1814.71088753, 1799.8652882 , ...,   89.8525007 ,\n",
       "         90.67070064,   87.90210059])"
      ]
     },
     "execution_count": 137,
     "metadata": {},
     "output_type": "execute_result"
    }
   ],
   "source": [
    "predictions"
   ]
  },
  {
   "cell_type": "code",
   "execution_count": 138,
   "metadata": {},
   "outputs": [],
   "source": [
    "# tính giá trị sai số của dự đoán \n",
    "from sklearn.metrics import mean_absolute_error"
   ]
  },
  {
   "cell_type": "code",
   "execution_count": 139,
   "metadata": {},
   "outputs": [
    {
     "data": {
      "text/plain": [
       "46.68961476592237"
      ]
     },
     "execution_count": 139,
     "metadata": {},
     "output_type": "execute_result"
    }
   ],
   "source": [
    "mean_absolute_error(y_test, predictions)"
   ]
  },
  {
   "cell_type": "code",
   "execution_count": 121,
   "metadata": {},
   "outputs": [],
   "source": [
    "### baseline là có giá trị sai số là 15.526\n",
    "# How to improve --> reduce error as much as possible "
   ]
  },
  {
   "cell_type": "code",
   "execution_count": null,
   "metadata": {},
   "outputs": [],
   "source": []
  },
  {
   "cell_type": "code",
   "execution_count": null,
   "metadata": {},
   "outputs": [],
   "source": []
  }
 ],
 "metadata": {
  "kernelspec": {
   "display_name": "Python 3",
   "language": "python",
   "name": "python3"
  },
  "language_info": {
   "codemirror_mode": {
    "name": "ipython",
    "version": 3
   },
   "file_extension": ".py",
   "mimetype": "text/x-python",
   "name": "python",
   "nbconvert_exporter": "python",
   "pygments_lexer": "ipython3",
   "version": "3.7.9"
  }
 },
 "nbformat": 4,
 "nbformat_minor": 4
}
