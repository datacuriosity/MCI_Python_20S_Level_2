{
 "cells": [
  {
   "cell_type": "code",
   "execution_count": 1,
   "metadata": {},
   "outputs": [],
   "source": [
    "import pandas as pd"
   ]
  },
  {
   "cell_type": "code",
   "execution_count": 2,
   "metadata": {},
   "outputs": [],
   "source": [
    "## Load data\n",
    "df = pd.read_csv('sphist.csv')"
   ]
  },
  {
   "cell_type": "code",
   "execution_count": 3,
   "metadata": {},
   "outputs": [
    {
     "data": {
      "text/html": [
       "<div>\n",
       "<style scoped>\n",
       "    .dataframe tbody tr th:only-of-type {\n",
       "        vertical-align: middle;\n",
       "    }\n",
       "\n",
       "    .dataframe tbody tr th {\n",
       "        vertical-align: top;\n",
       "    }\n",
       "\n",
       "    .dataframe thead th {\n",
       "        text-align: right;\n",
       "    }\n",
       "</style>\n",
       "<table border=\"1\" class=\"dataframe\">\n",
       "  <thead>\n",
       "    <tr style=\"text-align: right;\">\n",
       "      <th></th>\n",
       "      <th>Date</th>\n",
       "      <th>Open</th>\n",
       "      <th>High</th>\n",
       "      <th>Low</th>\n",
       "      <th>Close</th>\n",
       "      <th>Volume</th>\n",
       "      <th>Adj Close</th>\n",
       "    </tr>\n",
       "  </thead>\n",
       "  <tbody>\n",
       "    <tr>\n",
       "      <th>0</th>\n",
       "      <td>7/12/15</td>\n",
       "      <td>2090.419922</td>\n",
       "      <td>2090.419922</td>\n",
       "      <td>2066.780029</td>\n",
       "      <td>2077.070068</td>\n",
       "      <td>4043820000</td>\n",
       "      <td>2077.070068</td>\n",
       "    </tr>\n",
       "    <tr>\n",
       "      <th>1</th>\n",
       "      <td>4/12/15</td>\n",
       "      <td>2051.239990</td>\n",
       "      <td>2093.840088</td>\n",
       "      <td>2051.239990</td>\n",
       "      <td>2091.689941</td>\n",
       "      <td>4214910000</td>\n",
       "      <td>2091.689941</td>\n",
       "    </tr>\n",
       "    <tr>\n",
       "      <th>2</th>\n",
       "      <td>3/12/15</td>\n",
       "      <td>2080.709961</td>\n",
       "      <td>2085.000000</td>\n",
       "      <td>2042.349976</td>\n",
       "      <td>2049.620117</td>\n",
       "      <td>4306490000</td>\n",
       "      <td>2049.620117</td>\n",
       "    </tr>\n",
       "    <tr>\n",
       "      <th>3</th>\n",
       "      <td>2/12/15</td>\n",
       "      <td>2101.709961</td>\n",
       "      <td>2104.270020</td>\n",
       "      <td>2077.110107</td>\n",
       "      <td>2079.510010</td>\n",
       "      <td>3950640000</td>\n",
       "      <td>2079.510010</td>\n",
       "    </tr>\n",
       "    <tr>\n",
       "      <th>4</th>\n",
       "      <td>1/12/15</td>\n",
       "      <td>2082.929932</td>\n",
       "      <td>2103.370117</td>\n",
       "      <td>2082.929932</td>\n",
       "      <td>2102.629883</td>\n",
       "      <td>3712120000</td>\n",
       "      <td>2102.629883</td>\n",
       "    </tr>\n",
       "  </tbody>\n",
       "</table>\n",
       "</div>"
      ],
      "text/plain": [
       "      Date         Open         High          Low        Close      Volume  \\\n",
       "0  7/12/15  2090.419922  2090.419922  2066.780029  2077.070068  4043820000   \n",
       "1  4/12/15  2051.239990  2093.840088  2051.239990  2091.689941  4214910000   \n",
       "2  3/12/15  2080.709961  2085.000000  2042.349976  2049.620117  4306490000   \n",
       "3  2/12/15  2101.709961  2104.270020  2077.110107  2079.510010  3950640000   \n",
       "4  1/12/15  2082.929932  2103.370117  2082.929932  2102.629883  3712120000   \n",
       "\n",
       "     Adj Close  \n",
       "0  2077.070068  \n",
       "1  2091.689941  \n",
       "2  2049.620117  \n",
       "3  2079.510010  \n",
       "4  2102.629883  "
      ]
     },
     "execution_count": 3,
     "metadata": {},
     "output_type": "execute_result"
    }
   ],
   "source": [
    "df.head()"
   ]
  },
  {
   "cell_type": "code",
   "execution_count": 4,
   "metadata": {},
   "outputs": [
    {
     "name": "stdout",
     "output_type": "stream",
     "text": [
      "<class 'pandas.core.frame.DataFrame'>\n",
      "RangeIndex: 16590 entries, 0 to 16589\n",
      "Data columns (total 7 columns):\n",
      " #   Column     Non-Null Count  Dtype  \n",
      "---  ------     --------------  -----  \n",
      " 0   Date       16590 non-null  object \n",
      " 1   Open       16590 non-null  float64\n",
      " 2   High       16590 non-null  float64\n",
      " 3   Low        16590 non-null  float64\n",
      " 4   Close      16590 non-null  float64\n",
      " 5   Volume     16590 non-null  int64  \n",
      " 6   Adj Close  16590 non-null  float64\n",
      "dtypes: float64(5), int64(1), object(1)\n",
      "memory usage: 907.4+ KB\n"
     ]
    }
   ],
   "source": [
    "df.info()"
   ]
  },
  {
   "cell_type": "code",
   "execution_count": 5,
   "metadata": {},
   "outputs": [],
   "source": [
    "# convert column 'Date' to datetime\n",
    "df['Date'] = pd.to_datetime(df['Date'])"
   ]
  },
  {
   "cell_type": "code",
   "execution_count": 6,
   "metadata": {},
   "outputs": [],
   "source": [
    "# arrange 'Date' column in increasing order\n",
    "df = df.sort_values('Date')"
   ]
  },
  {
   "cell_type": "code",
   "execution_count": 13,
   "metadata": {},
   "outputs": [],
   "source": [
    "df.reset_index(inplace = True, drop = True)"
   ]
  },
  {
   "cell_type": "code",
   "execution_count": 8,
   "metadata": {},
   "outputs": [
    {
     "data": {
      "text/html": [
       "<div>\n",
       "<style scoped>\n",
       "    .dataframe tbody tr th:only-of-type {\n",
       "        vertical-align: middle;\n",
       "    }\n",
       "\n",
       "    .dataframe tbody tr th {\n",
       "        vertical-align: top;\n",
       "    }\n",
       "\n",
       "    .dataframe thead th {\n",
       "        text-align: right;\n",
       "    }\n",
       "</style>\n",
       "<table border=\"1\" class=\"dataframe\">\n",
       "  <thead>\n",
       "    <tr style=\"text-align: right;\">\n",
       "      <th></th>\n",
       "      <th>Date</th>\n",
       "      <th>Open</th>\n",
       "      <th>High</th>\n",
       "      <th>Low</th>\n",
       "      <th>Close</th>\n",
       "      <th>Volume</th>\n",
       "      <th>Adj Close</th>\n",
       "    </tr>\n",
       "  </thead>\n",
       "  <tbody>\n",
       "    <tr>\n",
       "      <th>0</th>\n",
       "      <td>1971-01-02</td>\n",
       "      <td>95.879997</td>\n",
       "      <td>97.050003</td>\n",
       "      <td>95.379997</td>\n",
       "      <td>96.419998</td>\n",
       "      <td>20650000</td>\n",
       "      <td>96.419998</td>\n",
       "    </tr>\n",
       "    <tr>\n",
       "      <th>1</th>\n",
       "      <td>1971-01-03</td>\n",
       "      <td>96.750000</td>\n",
       "      <td>97.480003</td>\n",
       "      <td>96.110001</td>\n",
       "      <td>97.000000</td>\n",
       "      <td>13020000</td>\n",
       "      <td>97.000000</td>\n",
       "    </tr>\n",
       "    <tr>\n",
       "      <th>2</th>\n",
       "      <td>1971-01-04</td>\n",
       "      <td>100.309998</td>\n",
       "      <td>100.989998</td>\n",
       "      <td>99.629997</td>\n",
       "      <td>100.389999</td>\n",
       "      <td>13470000</td>\n",
       "      <td>100.389999</td>\n",
       "    </tr>\n",
       "    <tr>\n",
       "      <th>3</th>\n",
       "      <td>1971-01-06</td>\n",
       "      <td>99.629997</td>\n",
       "      <td>100.760002</td>\n",
       "      <td>99.220001</td>\n",
       "      <td>100.199997</td>\n",
       "      <td>11930000</td>\n",
       "      <td>100.199997</td>\n",
       "    </tr>\n",
       "    <tr>\n",
       "      <th>4</th>\n",
       "      <td>1971-01-07</td>\n",
       "      <td>99.160004</td>\n",
       "      <td>100.650002</td>\n",
       "      <td>99.160004</td>\n",
       "      <td>99.779999</td>\n",
       "      <td>13090000</td>\n",
       "      <td>99.779999</td>\n",
       "    </tr>\n",
       "  </tbody>\n",
       "</table>\n",
       "</div>"
      ],
      "text/plain": [
       "        Date        Open        High        Low       Close    Volume  \\\n",
       "0 1971-01-02   95.879997   97.050003  95.379997   96.419998  20650000   \n",
       "1 1971-01-03   96.750000   97.480003  96.110001   97.000000  13020000   \n",
       "2 1971-01-04  100.309998  100.989998  99.629997  100.389999  13470000   \n",
       "3 1971-01-06   99.629997  100.760002  99.220001  100.199997  11930000   \n",
       "4 1971-01-07   99.160004  100.650002  99.160004   99.779999  13090000   \n",
       "\n",
       "    Adj Close  \n",
       "0   96.419998  \n",
       "1   97.000000  \n",
       "2  100.389999  \n",
       "3  100.199997  \n",
       "4   99.779999  "
      ]
     },
     "execution_count": 8,
     "metadata": {},
     "output_type": "execute_result"
    }
   ],
   "source": [
    "df.head()"
   ]
  },
  {
   "cell_type": "code",
   "execution_count": 53,
   "metadata": {},
   "outputs": [],
   "source": [
    "# df['total_open'] = df['Open'] * df['Volume']\n",
    "# df['total_high'] = df['High'] * df['Volume']\n",
    "# df['total_low'] = df['Low'] * df['Volume']\n",
    "# df['total_close'] = df['Close'] * df['Volume']"
   ]
  },
  {
   "cell_type": "code",
   "execution_count": 54,
   "metadata": {},
   "outputs": [],
   "source": [
    "# df.head()"
   ]
  },
  {
   "cell_type": "code",
   "execution_count": 55,
   "metadata": {},
   "outputs": [],
   "source": [
    "# df['diff_high_low'] = df['High'] - df['Low']\n",
    "# df['diff_close_open'] = df['Close'] - df['Open']"
   ]
  },
  {
   "cell_type": "code",
   "execution_count": 11,
   "metadata": {},
   "outputs": [],
   "source": [
    "def get_avg_n_days_recent(data,n,col_name):\n",
    "    result = []\n",
    "    for index,row in data.iterrows():\n",
    "        if index < n:\n",
    "            result.append(0)\n",
    "        else:\n",
    "            i_n = index - n\n",
    "            tmp = data.iloc[i_n:index][col_name].mean()\n",
    "            result.append(tmp)\n",
    "            \n",
    "    return result"
   ]
  },
  {
   "cell_type": "code",
   "execution_count": 12,
   "metadata": {},
   "outputs": [],
   "source": [
    "def get_std_n_days_recent(data,n,col_name):\n",
    "    result = []\n",
    "    for index,row in data.iterrows():\n",
    "        if index < n:\n",
    "            result.append(0)\n",
    "        else:\n",
    "            i_n = index - n\n",
    "            tmp = data.iloc[i_n:index][col_name].std()\n",
    "            result.append(tmp)\n",
    "            \n",
    "    return result"
   ]
  },
  {
   "cell_type": "code",
   "execution_count": 10,
   "metadata": {},
   "outputs": [
    {
     "ename": "NameError",
     "evalue": "name 'get_avg_n_days_recent' is not defined",
     "output_type": "error",
     "traceback": [
      "\u001b[0;31m---------------------------------------------------------------------------\u001b[0m",
      "\u001b[0;31mNameError\u001b[0m                                 Traceback (most recent call last)",
      "\u001b[0;32m<ipython-input-10-5f4c78a2d84d>\u001b[0m in \u001b[0;36m<module>\u001b[0;34m\u001b[0m\n\u001b[1;32m      2\u001b[0m \u001b[0mcol_name\u001b[0m \u001b[0;34m=\u001b[0m \u001b[0;34m'Open'\u001b[0m\u001b[0;34m\u001b[0m\u001b[0;34m\u001b[0m\u001b[0m\n\u001b[1;32m      3\u001b[0m \u001b[0mn_recent_days\u001b[0m \u001b[0;34m=\u001b[0m \u001b[0;36m5\u001b[0m\u001b[0;34m\u001b[0m\u001b[0;34m\u001b[0m\u001b[0m\n\u001b[0;32m----> 4\u001b[0;31m \u001b[0mtmp\u001b[0m \u001b[0;34m=\u001b[0m \u001b[0mget_avg_n_days_recent\u001b[0m\u001b[0;34m(\u001b[0m\u001b[0mdf\u001b[0m\u001b[0;34m,\u001b[0m\u001b[0mn_recent_days\u001b[0m\u001b[0;34m,\u001b[0m\u001b[0mcol_name\u001b[0m\u001b[0;34m)\u001b[0m\u001b[0;34m\u001b[0m\u001b[0;34m\u001b[0m\u001b[0m\n\u001b[0m\u001b[1;32m      5\u001b[0m \u001b[0mdf\u001b[0m\u001b[0;34m[\u001b[0m\u001b[0;34m'feat_01'\u001b[0m\u001b[0;34m]\u001b[0m \u001b[0;34m=\u001b[0m \u001b[0mtmp\u001b[0m\u001b[0;34m\u001b[0m\u001b[0;34m\u001b[0m\u001b[0m\n",
      "\u001b[0;31mNameError\u001b[0m: name 'get_avg_n_days_recent' is not defined"
     ]
    }
   ],
   "source": [
    "### Prev_5_avg_price ###\n",
    "col_name = 'Open'\n",
    "n_recent_days = 5\n",
    "tmp = get_avg_n_days_recent(df,n_recent_days,col_name)\n",
    "df['feat_01'] = tmp"
   ]
  },
  {
   "cell_type": "code",
   "execution_count": 9,
   "metadata": {},
   "outputs": [
    {
     "data": {
      "text/html": [
       "<div>\n",
       "<style scoped>\n",
       "    .dataframe tbody tr th:only-of-type {\n",
       "        vertical-align: middle;\n",
       "    }\n",
       "\n",
       "    .dataframe tbody tr th {\n",
       "        vertical-align: top;\n",
       "    }\n",
       "\n",
       "    .dataframe thead th {\n",
       "        text-align: right;\n",
       "    }\n",
       "</style>\n",
       "<table border=\"1\" class=\"dataframe\">\n",
       "  <thead>\n",
       "    <tr style=\"text-align: right;\">\n",
       "      <th></th>\n",
       "      <th>Date</th>\n",
       "      <th>Open</th>\n",
       "      <th>High</th>\n",
       "      <th>Low</th>\n",
       "      <th>Close</th>\n",
       "      <th>Volume</th>\n",
       "      <th>Adj Close</th>\n",
       "    </tr>\n",
       "  </thead>\n",
       "  <tbody>\n",
       "    <tr>\n",
       "      <th>0</th>\n",
       "      <td>1971-01-02</td>\n",
       "      <td>95.879997</td>\n",
       "      <td>97.050003</td>\n",
       "      <td>95.379997</td>\n",
       "      <td>96.419998</td>\n",
       "      <td>20650000</td>\n",
       "      <td>96.419998</td>\n",
       "    </tr>\n",
       "    <tr>\n",
       "      <th>1</th>\n",
       "      <td>1971-01-03</td>\n",
       "      <td>96.750000</td>\n",
       "      <td>97.480003</td>\n",
       "      <td>96.110001</td>\n",
       "      <td>97.000000</td>\n",
       "      <td>13020000</td>\n",
       "      <td>97.000000</td>\n",
       "    </tr>\n",
       "    <tr>\n",
       "      <th>2</th>\n",
       "      <td>1971-01-04</td>\n",
       "      <td>100.309998</td>\n",
       "      <td>100.989998</td>\n",
       "      <td>99.629997</td>\n",
       "      <td>100.389999</td>\n",
       "      <td>13470000</td>\n",
       "      <td>100.389999</td>\n",
       "    </tr>\n",
       "    <tr>\n",
       "      <th>3</th>\n",
       "      <td>1971-01-06</td>\n",
       "      <td>99.629997</td>\n",
       "      <td>100.760002</td>\n",
       "      <td>99.220001</td>\n",
       "      <td>100.199997</td>\n",
       "      <td>11930000</td>\n",
       "      <td>100.199997</td>\n",
       "    </tr>\n",
       "    <tr>\n",
       "      <th>4</th>\n",
       "      <td>1971-01-07</td>\n",
       "      <td>99.160004</td>\n",
       "      <td>100.650002</td>\n",
       "      <td>99.160004</td>\n",
       "      <td>99.779999</td>\n",
       "      <td>13090000</td>\n",
       "      <td>99.779999</td>\n",
       "    </tr>\n",
       "  </tbody>\n",
       "</table>\n",
       "</div>"
      ],
      "text/plain": [
       "        Date        Open        High        Low       Close    Volume  \\\n",
       "0 1971-01-02   95.879997   97.050003  95.379997   96.419998  20650000   \n",
       "1 1971-01-03   96.750000   97.480003  96.110001   97.000000  13020000   \n",
       "2 1971-01-04  100.309998  100.989998  99.629997  100.389999  13470000   \n",
       "3 1971-01-06   99.629997  100.760002  99.220001  100.199997  11930000   \n",
       "4 1971-01-07   99.160004  100.650002  99.160004   99.779999  13090000   \n",
       "\n",
       "    Adj Close  \n",
       "0   96.419998  \n",
       "1   97.000000  \n",
       "2  100.389999  \n",
       "3  100.199997  \n",
       "4   99.779999  "
      ]
     },
     "execution_count": 9,
     "metadata": {},
     "output_type": "execute_result"
    }
   ],
   "source": [
    "df.head()"
   ]
  },
  {
   "cell_type": "code",
   "execution_count": 59,
   "metadata": {},
   "outputs": [],
   "source": [
    "col_name = 'High'\n",
    "n_recent_days = 5\n",
    "tmp = get_avg_n_days_recent(df,n_recent_days,col_name)\n",
    "df['feat_02'] = tmp "
   ]
  },
  {
   "cell_type": "code",
   "execution_count": 60,
   "metadata": {},
   "outputs": [],
   "source": [
    "col_name = 'Low'\n",
    "n_recent_days = 5\n",
    "tmp = get_avg_n_days_recent(df,n_recent_days,col_name)\n",
    "df['feat_03'] = tmp"
   ]
  },
  {
   "cell_type": "code",
   "execution_count": 61,
   "metadata": {},
   "outputs": [],
   "source": [
    "col_name = 'Close'\n",
    "n_recent_days = 5\n",
    "tmp = get_avg_n_days_recent(df,n_recent_days,col_name)\n",
    "df['feat_04'] = tmp"
   ]
  },
  {
   "cell_type": "code",
   "execution_count": 62,
   "metadata": {},
   "outputs": [],
   "source": [
    "### Prev_30_avg_price ###\n",
    "col_name = 'Open'\n",
    "n_recent_days = 30\n",
    "tmp = get_avg_n_days_recent(df,n_recent_days,col_name)\n",
    "df['feat_05'] = tmp"
   ]
  },
  {
   "cell_type": "code",
   "execution_count": 63,
   "metadata": {},
   "outputs": [],
   "source": [
    "col_name = 'High'\n",
    "n_recent_days = 30\n",
    "tmp = get_avg_n_days_recent(df,n_recent_days,col_name)\n",
    "df['feat_06'] = tmp"
   ]
  },
  {
   "cell_type": "code",
   "execution_count": 64,
   "metadata": {},
   "outputs": [],
   "source": [
    "col_name = 'Low'\n",
    "n_recent_days = 30\n",
    "tmp = get_avg_n_days_recent(df,n_recent_days,col_name)\n",
    "df['feat_07'] = tmp"
   ]
  },
  {
   "cell_type": "code",
   "execution_count": 65,
   "metadata": {},
   "outputs": [],
   "source": [
    "col_name = 'Close'\n",
    "n_recent_days = 30\n",
    "tmp = get_avg_n_days_recent(df,n_recent_days,col_name)\n",
    "df['feat_08'] = tmp"
   ]
  },
  {
   "cell_type": "code",
   "execution_count": 66,
   "metadata": {},
   "outputs": [],
   "source": [
    "### Prev_5_std_price ###\n",
    "col_name = 'Open'\n",
    "n_recent_days = 5\n",
    "tmp = get_std_n_days_recent(df,n_recent_days,col_name)\n",
    "df['feat_09'] = tmp"
   ]
  },
  {
   "cell_type": "code",
   "execution_count": 67,
   "metadata": {},
   "outputs": [],
   "source": [
    "col_name = 'High'\n",
    "n_recent_days = 5\n",
    "tmp = get_std_n_days_recent(df,n_recent_days,col_name)\n",
    "df['feat_10'] = tmp"
   ]
  },
  {
   "cell_type": "code",
   "execution_count": 68,
   "metadata": {},
   "outputs": [],
   "source": [
    "col_name = 'Low'\n",
    "n_recent_days = 5\n",
    "tmp = get_std_n_days_recent(df,n_recent_days,col_name)\n",
    "df['feat_11'] = tmp"
   ]
  },
  {
   "cell_type": "code",
   "execution_count": 69,
   "metadata": {},
   "outputs": [],
   "source": [
    "col_name = 'Close'\n",
    "n_recent_days = 5\n",
    "tmp = get_std_n_days_recent(df,n_recent_days,col_name)\n",
    "df['feat_12'] = tmp"
   ]
  },
  {
   "cell_type": "code",
   "execution_count": 70,
   "metadata": {},
   "outputs": [],
   "source": [
    "### Prev_30_std_price ###\n",
    "col_name = 'Open'\n",
    "n_recent_days = 30\n",
    "tmp = get_std_n_days_recent(df,n_recent_days,col_name)\n",
    "df['feat_13'] = tmp"
   ]
  },
  {
   "cell_type": "code",
   "execution_count": 71,
   "metadata": {},
   "outputs": [],
   "source": [
    "col_name = 'High'\n",
    "n_recent_days = 30\n",
    "tmp = get_std_n_days_recent(df,n_recent_days,col_name)\n",
    "df['feat_14'] = tmp"
   ]
  },
  {
   "cell_type": "code",
   "execution_count": 72,
   "metadata": {},
   "outputs": [],
   "source": [
    "col_name = 'Low'\n",
    "n_recent_days = 30\n",
    "tmp = get_std_n_days_recent(df,n_recent_days,col_name)\n",
    "df['feat_15'] = tmp"
   ]
  },
  {
   "cell_type": "code",
   "execution_count": 73,
   "metadata": {},
   "outputs": [],
   "source": [
    "col_name = 'Close'\n",
    "n_recent_days = 30\n",
    "tmp = get_std_n_days_recent(df,n_recent_days,col_name)\n",
    "df['feat_16'] = tmp"
   ]
  },
  {
   "cell_type": "code",
   "execution_count": 74,
   "metadata": {},
   "outputs": [],
   "source": [
    "# Prev_5_avg_volume\n",
    "col_name = 'Volume'\n",
    "n_recent_days = 5\n",
    "tmp = get_avg_n_days_recent(df,n_recent_days,col_name)\n",
    "df['feat_17'] = tmp"
   ]
  },
  {
   "cell_type": "code",
   "execution_count": 75,
   "metadata": {},
   "outputs": [],
   "source": [
    "# Prev_30_avg_volume\n",
    "col_name = 'Volume'\n",
    "n_recent_days = 30\n",
    "tmp = get_avg_n_days_recent(df,n_recent_days,col_name)\n",
    "df['feat_18'] = tmp"
   ]
  },
  {
   "cell_type": "code",
   "execution_count": 76,
   "metadata": {},
   "outputs": [],
   "source": [
    "# Prev_5_std_volume\n",
    "n_recent_days = 5\n",
    "col_name = 'Volume'\n",
    "tmp = get_std_n_days_recent(df,n_recent_days,col_name)\n",
    "df['feat_19'] = tmp"
   ]
  },
  {
   "cell_type": "code",
   "execution_count": 77,
   "metadata": {},
   "outputs": [],
   "source": [
    "# Prev_30_std_volume\n",
    "n_recent_days = 30\n",
    "col_name = 'Volume'\n",
    "tmp = get_std_n_days_recent(df,n_recent_days,col_name)\n",
    "df['feat_20'] = tmp"
   ]
  },
  {
   "cell_type": "code",
   "execution_count": 78,
   "metadata": {},
   "outputs": [],
   "source": [
    "# quotient feature\n",
    "# avg_5 / avg_30\n",
    "df['feat_21'] = df['feat_01'] / (df['feat_05'] + 0.01)\n",
    "df['feat_22'] = df['feat_02'] / (df['feat_06'] + 0.01)\n",
    "df['feat_23'] = df['feat_03'] / (df['feat_07'] + 0.01)\n",
    "df['feat_24'] = df['feat_04'] / (df['feat_08'] + 0.01)"
   ]
  },
  {
   "cell_type": "code",
   "execution_count": 79,
   "metadata": {},
   "outputs": [],
   "source": [
    "# total open price\n",
    "df['feat_25'] = df['Open'] * df['Volume']\n",
    "df['feat_26'] = df['High'] * df['Volume']\n",
    "df['feat_27'] = df['Low'] * df['Volume']\n",
    "df['feat_28'] = df['Close'] * df['Volume']"
   ]
  },
  {
   "cell_type": "code",
   "execution_count": 80,
   "metadata": {},
   "outputs": [],
   "source": [
    "## difference feature\n",
    "df['feat_29'] = df[feat_] - df['Low']\n",
    "df['feat_30'] = df['Close'] - df['High']"
   ]
  },
  {
   "cell_type": "code",
   "execution_count": 81,
   "metadata": {},
   "outputs": [],
   "source": [
    "### some datetime feature\n",
    "df['feat_31'] = df['Date'].dt.day_name()"
   ]
  },
  {
   "cell_type": "code",
   "execution_count": 82,
   "metadata": {},
   "outputs": [],
   "source": [
    "df['feat_32'] = df['Date'].dt.month_name()"
   ]
  },
  {
   "cell_type": "code",
   "execution_count": 83,
   "metadata": {},
   "outputs": [],
   "source": [
    "# df_final = df.drop(columns = ['Date','High','Low','Close','Volume','Adj Close'])\n",
    "df_final = df.drop(columns = ['High','Low','Close','Volume','Adj Close'])"
   ]
  },
  {
   "cell_type": "code",
   "execution_count": 84,
   "metadata": {},
   "outputs": [
    {
     "name": "stdout",
     "output_type": "stream",
     "text": [
      "<class 'pandas.core.frame.DataFrame'>\n",
      "RangeIndex: 16590 entries, 0 to 16589\n",
      "Data columns (total 34 columns):\n",
      " #   Column   Non-Null Count  Dtype         \n",
      "---  ------   --------------  -----         \n",
      " 0   Date     16590 non-null  datetime64[ns]\n",
      " 1   Open     16590 non-null  float64       \n",
      " 2   feat_01  16590 non-null  float64       \n",
      " 3   feat_02  16590 non-null  float64       \n",
      " 4   feat_03  16590 non-null  float64       \n",
      " 5   feat_04  16590 non-null  float64       \n",
      " 6   feat_05  16590 non-null  float64       \n",
      " 7   feat_06  16590 non-null  float64       \n",
      " 8   feat_07  16590 non-null  float64       \n",
      " 9   feat_08  16590 non-null  float64       \n",
      " 10  feat_09  16590 non-null  float64       \n",
      " 11  feat_10  16590 non-null  float64       \n",
      " 12  feat_11  16590 non-null  float64       \n",
      " 13  feat_12  16590 non-null  float64       \n",
      " 14  feat_13  16590 non-null  float64       \n",
      " 15  feat_14  16590 non-null  float64       \n",
      " 16  feat_15  16590 non-null  float64       \n",
      " 17  feat_16  16590 non-null  float64       \n",
      " 18  feat_17  16590 non-null  float64       \n",
      " 19  feat_18  16590 non-null  float64       \n",
      " 20  feat_19  16590 non-null  float64       \n",
      " 21  feat_20  16590 non-null  float64       \n",
      " 22  feat_21  16590 non-null  float64       \n",
      " 23  feat_22  16590 non-null  float64       \n",
      " 24  feat_23  16590 non-null  float64       \n",
      " 25  feat_24  16590 non-null  float64       \n",
      " 26  feat_25  16590 non-null  float64       \n",
      " 27  feat_26  16590 non-null  float64       \n",
      " 28  feat_27  16590 non-null  float64       \n",
      " 29  feat_28  16590 non-null  float64       \n",
      " 30  feat_29  16590 non-null  float64       \n",
      " 31  feat_30  16590 non-null  float64       \n",
      " 32  feat_31  16590 non-null  object        \n",
      " 33  feat_32  16590 non-null  object        \n",
      "dtypes: datetime64[ns](1), float64(31), object(2)\n",
      "memory usage: 4.3+ MB\n"
     ]
    }
   ],
   "source": [
    "df_final.info(verbose = True, null_counts = True)"
   ]
  },
  {
   "cell_type": "markdown",
   "metadata": {},
   "source": [
    "### Approach 1: Remove all categorical features and use LinearRegression"
   ]
  },
  {
   "cell_type": "code",
   "execution_count": 85,
   "metadata": {},
   "outputs": [],
   "source": [
    "from datetime import datetime\n",
    "from sklearn.preprocessing import StandardScaler, MinMaxScaler"
   ]
  },
  {
   "cell_type": "code",
   "execution_count": 86,
   "metadata": {},
   "outputs": [],
   "source": [
    "# spliting dataframe into train and test parts\n",
    "train = df_final[df_final.Date < datetime(year = 2014, month = 1, day = 1)]\n",
    "test = df_final[df_final.Date >= datetime(year = 2014, month = 1, day = 1)]"
   ]
  },
  {
   "cell_type": "code",
   "execution_count": 96,
   "metadata": {},
   "outputs": [],
   "source": [
    "# li_feats = ['feat_01','feat_02','feat_03','feat_04','feat_05',\n",
    "#            'feat_06','feat_07','feat_08','feat_09','feat_10',\n",
    "#            'feat_11','feat_12','feat_13','feat_14','feat_15',\n",
    "#            'feat_16','feat_17','feat_18','feat_19','feat_20',\n",
    "#            'feat_21','feat_22','feat_23','feat_24','feat_25',\n",
    "#            'feat_26','feat_27','feat_28','feat_29','feat_30']\n",
    "\n",
    "\n",
    "li_feats = ['feat_01','feat_02']\n",
    "\n",
    "\n",
    "X_train = train[li_feats]\n",
    "y_train = train['Open']\n",
    "\n",
    "X_test = test[li_feats]\n",
    "y_test = test['Open']"
   ]
  },
  {
   "cell_type": "code",
   "execution_count": 97,
   "metadata": {},
   "outputs": [],
   "source": [
    "scaler = StandardScaler()"
   ]
  },
  {
   "cell_type": "code",
   "execution_count": 98,
   "metadata": {},
   "outputs": [],
   "source": [
    "X_train_sc = scaler.fit_transform(X_train)\n",
    "X_test_sc = scaler.transform(X_test)"
   ]
  },
  {
   "cell_type": "code",
   "execution_count": null,
   "metadata": {},
   "outputs": [],
   "source": [
    "from sklearn.linear_model import LinearRegression\n",
    "from sklearn.ensemble import RandomForestRegressor\n",
    "model = LinearRegression()\n",
    "# model = RandomForestRegressor()"
   ]
  },
  {
   "cell_type": "code",
   "execution_count": 100,
   "metadata": {},
   "outputs": [
    {
     "data": {
      "text/plain": [
       "LinearRegression()"
      ]
     },
     "execution_count": 100,
     "metadata": {},
     "output_type": "execute_result"
    }
   ],
   "source": [
    "model.fit(X_train_sc,y_train)"
   ]
  },
  {
   "cell_type": "code",
   "execution_count": 101,
   "metadata": {},
   "outputs": [],
   "source": [
    "predictions = model.predict(X_test_sc)"
   ]
  },
  {
   "cell_type": "code",
   "execution_count": 102,
   "metadata": {},
   "outputs": [],
   "source": [
    "from sklearn.metrics import mean_absolute_error"
   ]
  },
  {
   "cell_type": "code",
   "execution_count": 103,
   "metadata": {},
   "outputs": [],
   "source": [
    "mae = mean_absolute_error(y_test,predictions)"
   ]
  },
  {
   "cell_type": "code",
   "execution_count": 104,
   "metadata": {},
   "outputs": [
    {
     "data": {
      "text/plain": [
       "17.355815365797397"
      ]
     },
     "execution_count": 104,
     "metadata": {},
     "output_type": "execute_result"
    }
   ],
   "source": [
    "mae"
   ]
  },
  {
   "cell_type": "markdown",
   "metadata": {},
   "source": [
    "### Approach 2"
   ]
  },
  {
   "cell_type": "code",
   "execution_count": null,
   "metadata": {},
   "outputs": [],
   "source": [
    "from xgboost import XGBRegressor"
   ]
  },
  {
   "cell_type": "code",
   "execution_count": 18,
   "metadata": {},
   "outputs": [
    {
     "name": "stdout",
     "output_type": "stream",
     "text": [
      "Requirement already satisfied: xgboost in /Users/stephaniebui/opt/anaconda3/envs/lanhuong/lib/python3.7/site-packages (1.3.3)\n",
      "Requirement already satisfied: numpy in /Users/stephaniebui/opt/anaconda3/envs/lanhuong/lib/python3.7/site-packages (from xgboost) (1.19.2)\n",
      "Requirement already satisfied: scipy in /Users/stephaniebui/opt/anaconda3/envs/lanhuong/lib/python3.7/site-packages (from xgboost) (1.5.2)\n"
     ]
    }
   ],
   "source": [
    "!pip install xgboost"
   ]
  },
  {
   "cell_type": "code",
   "execution_count": null,
   "metadata": {},
   "outputs": [],
   "source": []
  }
 ],
 "metadata": {
  "kernelspec": {
   "display_name": "Python 3",
   "language": "python",
   "name": "python3"
  },
  "language_info": {
   "codemirror_mode": {
    "name": "ipython",
    "version": 3
   },
   "file_extension": ".py",
   "mimetype": "text/x-python",
   "name": "python",
   "nbconvert_exporter": "python",
   "pygments_lexer": "ipython3",
   "version": "3.7.9"
  }
 },
 "nbformat": 4,
 "nbformat_minor": 4
}
