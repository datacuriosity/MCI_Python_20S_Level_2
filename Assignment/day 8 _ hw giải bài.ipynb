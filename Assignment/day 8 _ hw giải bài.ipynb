{
 "cells": [
  {
   "cell_type": "code",
   "execution_count": 3,
   "metadata": {},
   "outputs": [],
   "source": [
    "import pandas as pd\n",
    "import numpy as np"
   ]
  },
  {
   "cell_type": "code",
   "execution_count": null,
   "metadata": {},
   "outputs": [],
   "source": [
    "data = pd.read_csv('train.csv')"
   ]
  },
  {
   "cell_type": "code",
   "execution_count": null,
   "metadata": {},
   "outputs": [],
   "source": [
    "data['User_ID'] = data['User_ID'].astype('str')"
   ]
  },
  {
   "cell_type": "code",
   "execution_count": 9,
   "metadata": {},
   "outputs": [],
   "source": [
    "## định nghĩa ra 1 cái list chứa các column mà muốn ép kiểu\n",
    "## chạy 1 vòng lặp để ép kiểu cho từg column trong list \n",
    "\n",
    "cols = ['User_ID', 'Product_ID', 'Gender', 'Age', 'Occupation', 'City_Category', \n",
    "        'Stay_In_Current_City_Years', 'Marital_Status', 'Prodyct_Category_1',\n",
    "       'Product_Category_2', 'Product_Category_3']"
   ]
  },
  {
   "cell_type": "code",
   "execution_count": null,
   "metadata": {},
   "outputs": [],
   "source": [
    "# for i in range(0, len(cols)):\n",
    "#     print(cols[i])\n",
    "for col in cols: \n",
    "    data[col] = data[col].astype('str')"
   ]
  },
  {
   "cell_type": "code",
   "execution_count": null,
   "metadata": {},
   "outputs": [],
   "source": [
    "X = data[cols]\n",
    "y = data['Purchase']"
   ]
  },
  {
   "cell_type": "code",
   "execution_count": 19,
   "metadata": {},
   "outputs": [],
   "source": [
    "# xài hàm train, test split \n",
    "from sklearn.model_selection import train_test_split"
   ]
  },
  {
   "cell_type": "code",
   "execution_count": null,
   "metadata": {},
   "outputs": [],
   "source": [
    "X_train, X_test, y_train, y_test = train_test_split(X, y, test_size=0.2, random_state = 10)\n",
    "#random_state để mỗi khi random đều ra kqua giống nhau "
   ]
  },
  {
   "cell_type": "code",
   "execution_count": null,
   "metadata": {},
   "outputs": [],
   "source": [
    "X_train.head()"
   ]
  },
  {
   "cell_type": "code",
   "execution_count": null,
   "metadata": {},
   "outputs": [],
   "source": [
    "# feature engineering \n",
    "# Step 1: gọi mô hình \n",
    "# model = RandomForestRegressor()\n",
    "# model.fit(X_train, y_train)\n",
    "# ( có thể gọi nhiều mô hình )\n",
    "\n",
    "# learn model \n",
    "# y_prediction = model.predict(X_test)\n",
    "\n",
    "# y_test ---> ground_truth value \n",
    "# tính_sai_số(y_prediction, y_test) ---> sai số, accuracy "
   ]
  },
  {
   "cell_type": "code",
   "execution_count": null,
   "metadata": {},
   "outputs": [],
   "source": [
    "data_train = pd.concat([X_train, y_train], axis = 1)"
   ]
  },
  {
   "cell_type": "code",
   "execution_count": null,
   "metadata": {},
   "outputs": [],
   "source": [
    "#tính feat 01 \n",
    "data_train.groupby('Gender')['Purchase'].median().reset_index(name = 'feat_01')"
   ]
  },
  {
   "cell_type": "code",
   "execution_count": null,
   "metadata": {},
   "outputs": [],
   "source": [
    "# def function_name(argument):\n",
    "#     idea\n",
    "#     return result\n",
    "\n",
    "def get_feature_01(input_df):\n",
    "    inpur_df.groupby('Gender')['Purchase'].median().reset_index(name = 'feat_01')\n",
    "    return df_result "
   ]
  },
  {
   "cell_type": "code",
   "execution_count": null,
   "metadata": {},
   "outputs": [],
   "source": [
    "get_feat_01(data_train)"
   ]
  },
  {
   "cell_type": "code",
   "execution_count": 21,
   "metadata": {},
   "outputs": [],
   "source": [
    "# feat_02: Gender std purchase\n",
    "def get_feat_02(df):\n",
    "    result = df.groupby('Gender')['Purchase'].std().reset_index(name='feat_02')\n",
    "    return result\n",
    "\n",
    "# feat_03: Age median purchase\n",
    "def get_feat_03(df):\n",
    "    result = df.groupby('Age')['Purchase'].median().reset_index(name='feat_03')\n",
    "    return result\n",
    "\n",
    "# feat_04: Age std purchase\n",
    "def get_feat_04(df):\n",
    "    result = df.groupby('Age')['Purchase'].std().reset_index(name='feat_04')\n",
    "    return result\n",
    "\n",
    "# feat_05: Occupation median purchase\n",
    "def get_feat_05(df):\n",
    "    result = df.groupby('Occupation')['Purchase'].median().reset_index(name='feat_05')\n",
    "    return result\n",
    "\n",
    "# feat_06: Occupation std purchase\n",
    "def get_feat_06(df):\n",
    "    result = df.groupby('Occupation')['Purchase'].std().reset_index(name='feat_06')\n",
    "    return result \n",
    "\n",
    "# feat_07 Product\n",
    "\n",
    "# feat_08 \n",
    "\n",
    "# feat_09\n",
    "\n",
    "# feat_10\n",
    "\n",
    "# feat_11\n"
   ]
  },
  {
   "cell_type": "code",
   "execution_count": null,
   "metadata": {},
   "outputs": [],
   "source": [
    "def get_def_12"
   ]
  },
  {
   "cell_type": "code",
   "execution_count": null,
   "metadata": {},
   "outputs": [],
   "source": [
    "# RandomForest\n",
    "#data_train.head()\n",
    "\n",
    "# tính feat_01. ... feat_12 --> cho tập data_train\n",
    "# train_feat_01 = get_feat_01(data_train)\n",
    "# train_feat_02\n",
    "# ...\n",
    "\n",
    "# train_feat_12"
   ]
  },
  {
   "cell_type": "code",
   "execution_count": null,
   "metadata": {},
   "outputs": [],
   "source": [
    "# merge các feature\n",
    "data_train_new = pd.merge(data_train, train_feat_01, on = 'Gender', how = 'inner')"
   ]
  },
  {
   "cell_type": "code",
   "execution_count": null,
   "metadata": {},
   "outputs": [],
   "source": [
    "# merge data_train_new với train_feat_02 --> data_train_new\n",
    "data_train_new = pd.merge(data_train_new, train_feat_02, on = 'Gender', how = 'inner')"
   ]
  },
  {
   "cell_type": "code",
   "execution_count": null,
   "metadata": {},
   "outputs": [],
   "source": [
    "# merge data_train_new với train_feat_03 --> data_train_new\n",
    "data_train_new = pd.merge(data_train_new, train_feat_03, on = 'Age', how = 'inner')"
   ]
  },
  {
   "cell_type": "code",
   "execution_count": null,
   "metadata": {},
   "outputs": [],
   "source": [
    "# merge data_train_new với train_feat_04 --> data_train_new\n",
    "data_train_new = pd.merge(data_train_new, train_feat_04, on = 'Age', how = 'inner')"
   ]
  },
  {
   "cell_type": "code",
   "execution_count": null,
   "metadata": {},
   "outputs": [],
   "source": [
    "# merge data_train_new với train_feat_05 --> data_train_new\n",
    "data_train_new = pd.merge(data_train_new, train_feat_05, on = 'Occupation', how = 'inner')"
   ]
  },
  {
   "cell_type": "code",
   "execution_count": null,
   "metadata": {},
   "outputs": [],
   "source": [
    "# merge data_train_new với train_feat_06 --> data_train_new\n",
    "data_train_new = pd.merge(data_train_new, train_feat_06, on = 'Occupation', how = 'inner')"
   ]
  },
  {
   "cell_type": "code",
   "execution_count": null,
   "metadata": {},
   "outputs": [],
   "source": [
    "# merge data_train_new với train_feat_07 --> data_train_new\n",
    "data_train_new = pd.merge(data_train_new, train_feat_07, on = 'Product_Category_1', how = 'inner')\n",
    "data_train_new = pd.merge(data_train_new, train_feat_08, on = 'Product_Category_1', how = 'inner')"
   ]
  },
  {
   "cell_type": "code",
   "execution_count": null,
   "metadata": {},
   "outputs": [],
   "source": []
  },
  {
   "cell_type": "code",
   "execution_count": null,
   "metadata": {},
   "outputs": [],
   "source": []
  },
  {
   "cell_type": "code",
   "execution_count": null,
   "metadata": {},
   "outputs": [],
   "source": []
  },
  {
   "cell_type": "code",
   "execution_count": null,
   "metadata": {},
   "outputs": [],
   "source": []
  },
  {
   "cell_type": "code",
   "execution_count": null,
   "metadata": {},
   "outputs": [],
   "source": []
  },
  {
   "cell_type": "code",
   "execution_count": null,
   "metadata": {},
   "outputs": [],
   "source": [
    "#fill null \n",
    "data_train_new_01['feat_11'] = data_train_new_01['feat_11'].fillna(data_train_new_01['feat_11'].median())"
   ]
  },
  {
   "cell_type": "code",
   "execution_count": null,
   "metadata": {},
   "outputs": [],
   "source": [
    "data_train_new_01 = data_train_new[['feat_01', 'feat_02', 'feat_03', 'feat_04', 'feat_05',\n",
    "                                   'feat_06', 'feat_07', 'feat_08', 'feat_09', 'feat_10', \n",
    "                                   'feat_11', 'feat_12', 'Purchase']]"
   ]
  },
  {
   "cell_type": "code",
   "execution_count": null,
   "metadata": {},
   "outputs": [],
   "source": [
    "X_train = data_train_new_01.drop(columns = ['Purchase'])"
   ]
  },
  {
   "cell_type": "code",
   "execution_count": null,
   "metadata": {},
   "outputs": [],
   "source": [
    "y_train = data_train_new_01['Purchase']"
   ]
  },
  {
   "cell_type": "code",
   "execution_count": null,
   "metadata": {},
   "outputs": [],
   "source": [
    "# finish learning model ---"
   ]
  },
  {
   "cell_type": "code",
   "execution_count": null,
   "metadata": {},
   "outputs": [],
   "source": [
    "from xgboost import XGBRegressor\n",
    "from catboost import CatBoostRegressor"
   ]
  },
  {
   "cell_type": "code",
   "execution_count": null,
   "metadata": {},
   "outputs": [],
   "source": [
    "! pip install xgboost"
   ]
  },
  {
   "cell_type": "code",
   "execution_count": null,
   "metadata": {},
   "outputs": [],
   "source": [
    "model = LGBMRegressor()"
   ]
  },
  {
   "cell_type": "code",
   "execution_count": null,
   "metadata": {},
   "outputs": [],
   "source": [
    "model.fit(X_train, y_train)"
   ]
  },
  {
   "cell_type": "code",
   "execution_count": null,
   "metadata": {},
   "outputs": [],
   "source": [
    "X_train"
   ]
  },
  {
   "cell_type": "code",
   "execution_count": null,
   "metadata": {},
   "outputs": [],
   "source": [
    "X_test"
   ]
  },
  {
   "cell_type": "code",
   "execution_count": null,
   "metadata": {},
   "outputs": [],
   "source": [
    "# nối feature đã học trên train sang test\n",
    "\n",
    "df_feat_01 = get_feat_01(data_train)\n",
    "X_test_new = pd.merge(X_test, df_feat_01, on = 'Gender')\n",
    "X_test_new = pd.merge(X_test_new, df_feat_02, on = 'Gender')\n",
    "X_test_new = pd.merge(X_test_new, df_feat_03, on = 'Age')\n",
    "X_test_new = pd.merge(X_test_new, df_feat_04, on = 'Age')\n",
    "X_test_new = pd.merge(X_test_new, df_feat_05, on = 'Gender')"
   ]
  },
  {
   "cell_type": "code",
   "execution_count": null,
   "metadata": {},
   "outputs": [],
   "source": []
  }
 ],
 "metadata": {
  "kernelspec": {
   "display_name": "Python 3",
   "language": "python",
   "name": "python3"
  },
  "language_info": {
   "codemirror_mode": {
    "name": "ipython",
    "version": 3
   },
   "file_extension": ".py",
   "mimetype": "text/x-python",
   "name": "python",
   "nbconvert_exporter": "python",
   "pygments_lexer": "ipython3",
   "version": "3.7.9"
  }
 },
 "nbformat": 4,
 "nbformat_minor": 4
}
